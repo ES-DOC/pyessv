{
 "cells": [
  {
   "cell_type": "markdown",
   "metadata": {},
   "source": [
    "# CMIP6 vocabularies with pyessv "
   ]
  },
  {
   "cell_type": "markdown",
   "metadata": {},
   "source": [
    "1. pyessv is a pragmatic, simple to use vocabulary management tool\n",
    "2. pyessv archive has been [seeded](https://github.com/ES-DOC/pyessv-writer/blob/master/sh/write_wcrp_cmip6.py) with CV's pulled from [WCRP-CMIP CMIP6 CVs](https://github.com/WCRP-CMIP/CMIP6_CVs)\n",
    "3. pyessv CV data model:  \n",
    "   3.1  Authority (e.g. WCRP)  \n",
    "   3.2  Scope (e.g. CMIP6)  \n",
    "   3.3  Collection (e.g. institution-id)  \n",
    "   3.4  Term (e.g. noaa-gfdl)  "
   ]
  },
  {
   "cell_type": "markdown",
   "metadata": {},
   "source": [
    "## Pre-Requisites"
   ]
  },
  {
   "cell_type": "markdown",
   "metadata": {},
   "source": [
    "Download pyessv-archive repository to local file system:  \n",
    "    \n",
    "    git clone https://github.com/ES-DOC/pyessv-archive.git YOUR_WORK_DIRECTORY\n",
    "\n",
    "Create ES-DOC pyessv folder:  \n",
    "\n",
    "    mkdir ~/.esdoc/pyessv\n",
    "    \n",
    "Create sym links:\n",
    "\n",
    "    ln -s YOUR_WORK_DIRECTORY/pyessv-archive/wcrp ~/.esdoc/pyessv"
   ]
  },
  {
   "cell_type": "markdown",
   "metadata": {},
   "source": [
    "## Import"
   ]
  },
  {
   "cell_type": "code",
   "execution_count": null,
   "metadata": {
    "collapsed": false
   },
   "outputs": [],
   "source": [
    "import pyessv"
   ]
  },
  {
   "cell_type": "markdown",
   "metadata": {},
   "source": [
    "## Loading from archive"
   ]
  },
  {
   "cell_type": "code",
   "execution_count": null,
   "metadata": {
    "collapsed": false
   },
   "outputs": [],
   "source": [
    "# Load the WCRP authority (once loaded it is cached).\n",
    "wcrp = pyessv.load('wcrp')\n",
    "assert isinstance(wcrp, pyessv.Authority)"
   ]
  },
  {
   "cell_type": "code",
   "execution_count": null,
   "metadata": {
    "collapsed": false
   },
   "outputs": [],
   "source": [
    "# Load the WCRP-CMIP6 scope.\n",
    "cmip6 = pyessv.load('wcrp', 'cmip6')\n",
    "assert isinstance(cmip6, pyessv.Scope)"
   ]
  },
  {
   "cell_type": "code",
   "execution_count": null,
   "metadata": {
    "collapsed": true
   },
   "outputs": [],
   "source": [
    "# Load the WCRP-CMIP6 institutional collection.\n",
    "institutions = pyessv.load('wcrp', 'cmip6', 'institution-id')\n",
    "assert isinstance(institutions, pyessv.Collection)"
   ]
  },
  {
   "cell_type": "code",
   "execution_count": null,
   "metadata": {
    "collapsed": false
   },
   "outputs": [],
   "source": [
    "# Load the WCRP-CMIP6 IPSL institution.\n",
    "gfdl = pyessv.load('wcrp', 'cmip6', 'institution-id', 'noaa-gfdl')\n",
    "assert isinstance(gfdl, pyessv.Term)"
   ]
  },
  {
   "cell_type": "markdown",
   "metadata": {},
   "source": [
    "## Iterating"
   ]
  },
  {
   "cell_type": "code",
   "execution_count": null,
   "metadata": {
    "collapsed": false
   },
   "outputs": [],
   "source": [
    "# Iterate all scopes managed by an authority.\n",
    "for scope in wcrp:\n",
    "    assert isinstance(scope, pyessv.Scope)"
   ]
  },
  {
   "cell_type": "code",
   "execution_count": null,
   "metadata": {
    "collapsed": false
   },
   "outputs": [],
   "source": [
    "# Iterate all collections within a scope.\n",
    "for collection in cmip6:\n",
    "    assert isinstance(collection, pyessv.Collection)"
   ]
  },
  {
   "cell_type": "code",
   "execution_count": null,
   "metadata": {
    "collapsed": true
   },
   "outputs": [],
   "source": [
    "# Iterate all terms within a collection.\n",
    "for term in institutions:\n",
    "    assert isinstance(term, pyessv.Term)"
   ]
  },
  {
   "cell_type": "markdown",
   "metadata": {},
   "source": [
    "## Key based access"
   ]
  },
  {
   "cell_type": "code",
   "execution_count": null,
   "metadata": {
    "collapsed": true
   },
   "outputs": [],
   "source": [
    "# Set pointer to a scope within an authority.\n",
    "assert wcrp['cmip6'] == cmip6"
   ]
  },
  {
   "cell_type": "code",
   "execution_count": null,
   "metadata": {
    "collapsed": false
   },
   "outputs": [],
   "source": [
    "# Set pointer to a collection within a scope.\n",
    "assert cmip6['institution-id'] == institutions"
   ]
  },
  {
   "cell_type": "code",
   "execution_count": null,
   "metadata": {
    "collapsed": true
   },
   "outputs": [],
   "source": [
    "# Set pointer to a term within a collection.\n",
    "assert institutions['noaa-gfdl'] == gfdl"
   ]
  },
  {
   "cell_type": "markdown",
   "metadata": {},
   "source": [
    "## CV Model properties"
   ]
  },
  {
   "cell_type": "markdown",
   "metadata": {},
   "source": [
    "### Authority properties"
   ]
  },
  {
   "cell_type": "code",
   "execution_count": null,
   "metadata": {
    "collapsed": false
   },
   "outputs": [],
   "source": [
    "# Canonical name (always lower cased).\n",
    "print wcrp.name"
   ]
  },
  {
   "cell_type": "code",
   "execution_count": null,
   "metadata": {
    "collapsed": false
   },
   "outputs": [],
   "source": [
    "# Label for UI purposes.\n",
    "print wcrp.label"
   ]
  },
  {
   "cell_type": "code",
   "execution_count": null,
   "metadata": {
    "collapsed": false
   },
   "outputs": [],
   "source": [
    "# Description.\n",
    "print wcrp.description"
   ]
  },
  {
   "cell_type": "code",
   "execution_count": null,
   "metadata": {
    "collapsed": false
   },
   "outputs": [],
   "source": [
    "# Homepage / URL.\n",
    "print wcrp.url"
   ]
  },
  {
   "cell_type": "code",
   "execution_count": null,
   "metadata": {
    "collapsed": false
   },
   "outputs": [],
   "source": [
    "# Namespace.\n",
    "print wcrp.namespace"
   ]
  },
  {
   "cell_type": "markdown",
   "metadata": {},
   "source": [
    "### Scope properties"
   ]
  },
  {
   "cell_type": "code",
   "execution_count": null,
   "metadata": {
    "collapsed": false
   },
   "outputs": [],
   "source": [
    "# Canonical name (always lower cased).\n",
    "print cmip6.name"
   ]
  },
  {
   "cell_type": "code",
   "execution_count": null,
   "metadata": {
    "collapsed": false
   },
   "outputs": [],
   "source": [
    "# Label for UI purposes.\n",
    "print cmip6.label"
   ]
  },
  {
   "cell_type": "code",
   "execution_count": null,
   "metadata": {
    "collapsed": false
   },
   "outputs": [],
   "source": [
    "# Description.\n",
    "print cmip6.description"
   ]
  },
  {
   "cell_type": "code",
   "execution_count": null,
   "metadata": {
    "collapsed": false
   },
   "outputs": [],
   "source": [
    "# Homepage / URL.\n",
    "print cmip6.url"
   ]
  },
  {
   "cell_type": "code",
   "execution_count": null,
   "metadata": {
    "collapsed": false
   },
   "outputs": [],
   "source": [
    "# Namespace.\n",
    "print cmip6.namespace"
   ]
  },
  {
   "cell_type": "markdown",
   "metadata": {},
   "source": [
    "### Collection properties"
   ]
  },
  {
   "cell_type": "code",
   "execution_count": null,
   "metadata": {
    "collapsed": false
   },
   "outputs": [],
   "source": [
    "# Canonical name (always lower cased).\n",
    "print institutions.name"
   ]
  },
  {
   "cell_type": "code",
   "execution_count": null,
   "metadata": {
    "collapsed": false
   },
   "outputs": [],
   "source": [
    "# Label for UI purposes.\n",
    "print institutions.label"
   ]
  },
  {
   "cell_type": "code",
   "execution_count": null,
   "metadata": {
    "collapsed": false
   },
   "outputs": [],
   "source": [
    "# Description.\n",
    "print institutions.description"
   ]
  },
  {
   "cell_type": "code",
   "execution_count": null,
   "metadata": {
    "collapsed": false
   },
   "outputs": [],
   "source": [
    "# Homepage / URL.\n",
    "print institutions.url"
   ]
  },
  {
   "cell_type": "code",
   "execution_count": null,
   "metadata": {
    "collapsed": false
   },
   "outputs": [],
   "source": [
    "# Namespace.\n",
    "print institutions.namespace"
   ]
  },
  {
   "cell_type": "markdown",
   "metadata": {},
   "source": [
    "### Term properties"
   ]
  },
  {
   "cell_type": "code",
   "execution_count": null,
   "metadata": {
    "collapsed": false
   },
   "outputs": [],
   "source": [
    "# Canonical name (always lower cased).\n",
    "print gfdl.name"
   ]
  },
  {
   "cell_type": "code",
   "execution_count": null,
   "metadata": {
    "collapsed": false
   },
   "outputs": [],
   "source": [
    "# Label for UI purposes.\n",
    "print gfdl.label"
   ]
  },
  {
   "cell_type": "code",
   "execution_count": null,
   "metadata": {
    "collapsed": false
   },
   "outputs": [],
   "source": [
    "# Creation date\n",
    "print gfdl.create_date"
   ]
  },
  {
   "cell_type": "code",
   "execution_count": null,
   "metadata": {
    "collapsed": false
   },
   "outputs": [],
   "source": [
    "# Universally unique identifier (assigned at point of creation).\n",
    "print gfdl.uid"
   ]
  },
  {
   "cell_type": "code",
   "execution_count": null,
   "metadata": {
    "collapsed": false
   },
   "outputs": [],
   "source": [
    "# Collection position identifier.\n",
    "print gfdl.idx"
   ]
  },
  {
   "cell_type": "code",
   "execution_count": null,
   "metadata": {
    "collapsed": false
   },
   "outputs": [],
   "source": [
    "# Governance status.\n",
    "print gfdl.status"
   ]
  },
  {
   "cell_type": "code",
   "execution_count": null,
   "metadata": {
    "collapsed": false
   },
   "outputs": [],
   "source": [
    "# Namespace (authority:scope:collection:term).\n",
    "print gfdl.namespace"
   ]
  },
  {
   "cell_type": "markdown",
   "metadata": {},
   "source": [
    "## Discovery"
   ]
  },
  {
   "cell_type": "code",
   "execution_count": null,
   "metadata": {
    "collapsed": false
   },
   "outputs": [],
   "source": [
    "# Scopes within an authority are sorted.\n",
    "for scope in wcrp:\n",
    "    print scope"
   ]
  },
  {
   "cell_type": "code",
   "execution_count": null,
   "metadata": {
    "collapsed": false
   },
   "outputs": [],
   "source": [
    "# Collections within a scope are sorted.\n",
    "for collection in cmip6:\n",
    "    print collection"
   ]
  },
  {
   "cell_type": "code",
   "execution_count": null,
   "metadata": {
    "collapsed": false
   },
   "outputs": [],
   "source": [
    "# Terms within a collection are sorted.\n",
    "for term in institutions:\n",
    "    print term"
   ]
  },
  {
   "cell_type": "markdown",
   "metadata": {},
   "source": [
    "## Encoding"
   ]
  },
  {
   "cell_type": "code",
   "execution_count": null,
   "metadata": {
    "collapsed": false
   },
   "outputs": [],
   "source": [
    "# Encode authority as a python dictionary.\n",
    "assert isinstance(pyessv.encode(wcrp, 'dict'), dict)\n",
    "\n",
    "# Encode scope as a python dictionary.\n",
    "assert isinstance(pyessv.encode(cmip6, 'dict'), dict)\n",
    "\n",
    "# Encode collection as a python dictionary.\n",
    "assert isinstance(pyessv.encode(institutions, 'dict'), dict)\n",
    "\n",
    "# Encode term as a python dictionary.\n",
    "assert isinstance(pyessv.encode(gfdl, 'dict'), dict)"
   ]
  },
  {
   "cell_type": "code",
   "execution_count": null,
   "metadata": {
    "collapsed": false
   },
   "outputs": [],
   "source": [
    "# Encode authority as a JSON text blob.\n",
    "assert isinstance(pyessv.encode(wcrp, 'json'), basestring)\n",
    "assert isinstance(pyessv.encode(wcrp), basestring)\n",
    "\n",
    "# Encode scope as a JSON text blob.\n",
    "assert isinstance(pyessv.encode(cmip6), basestring)\n",
    "assert isinstance(pyessv.encode(cmip6, 'json'), basestring)\n",
    "\n",
    "# Encode collection as a JSON text blob.\n",
    "assert isinstance(pyessv.encode(institutions), basestring)\n",
    "assert isinstance(pyessv.encode(institutions, 'json'), basestring)\n",
    "\n",
    "# Encode term as a JSON text blob.\n",
    "assert isinstance(pyessv.encode(gfdl), basestring)\n",
    "assert isinstance(pyessv.encode(gfdl, 'json'), basestring)"
   ]
  },
  {
   "cell_type": "markdown",
   "metadata": {},
   "source": [
    "## Parsing - name validation & substitution"
   ]
  },
  {
   "cell_type": "markdown",
   "metadata": {},
   "source": [
    "#### A canonical name is returned upon a successful parse"
   ]
  },
  {
   "cell_type": "code",
   "execution_count": null,
   "metadata": {
    "collapsed": false
   },
   "outputs": [],
   "source": [
    "# Parse authority.\n",
    "assert pyessv.parse('wcrp') == 'wcrp'\n",
    "\n",
    "# Parse scope.\n",
    "assert pyessv.parse('wcrp', 'cmip6') == 'cmip6'\n",
    "\n",
    "# Parse collection.\n",
    "assert pyessv.parse('wcrp', 'cmip6', 'institution-id') == 'institution-id'\n",
    "\n",
    "# Parse term.\n",
    "assert pyessv.parse('wcrp', 'cmip6', 'institution-id', 'ipsl') == 'ipsl'"
   ]
  },
  {
   "cell_type": "markdown",
   "metadata": {},
   "source": [
    "#### A parsing error is raised upon an unsuccessful parse"
   ]
  },
  {
   "cell_type": "code",
   "execution_count": null,
   "metadata": {
    "collapsed": false
   },
   "outputs": [],
   "source": [
    "try:\n",
    "    pyessv.parse('xxx')\n",
    "except pyessv.ParsingError:\n",
    "    pass"
   ]
  },
  {
   "cell_type": "markdown",
   "metadata": {},
   "source": [
    "#### Set strict = false in order to parse mixed-case & synonyms"
   ]
  },
  {
   "cell_type": "code",
   "execution_count": null,
   "metadata": {
    "collapsed": false
   },
   "outputs": [],
   "source": [
    "assert pyessv.parse('wCRp', strict=False) == 'wcrp'"
   ]
  },
  {
   "cell_type": "code",
   "execution_count": null,
   "metadata": {
    "collapsed": false
   },
   "outputs": [],
   "source": [
    "assert pyessv.parse('wCRp', 'cMIp6', strict=False) == 'cmip6'"
   ]
  },
  {
   "cell_type": "code",
   "execution_count": null,
   "metadata": {
    "collapsed": true
   },
   "outputs": [],
   "source": [
    "assert pyessv.parse('wCRp', 'cMIp6', 'inSTitutION-id', strict=False) == 'institution-id'"
   ]
  },
  {
   "cell_type": "code",
   "execution_count": null,
   "metadata": {
    "collapsed": true
   },
   "outputs": [],
   "source": [
    "assert pyessv.parse('wCRp', 'cMIp6', 'inSTitutION-id', 'IPsl', strict=False) == 'ipsl'"
   ]
  }
 ],
 "metadata": {
  "kernelspec": {
   "display_name": "Python 2",
   "language": "python",
   "name": "python2"
  },
  "language_info": {
   "codemirror_mode": {
    "name": "ipython",
    "version": 2
   },
   "file_extension": ".py",
   "mimetype": "text/x-python",
   "name": "python",
   "nbconvert_exporter": "python",
   "pygments_lexer": "ipython2",
   "version": "2.7.13"
  }
 },
 "nbformat": 4,
 "nbformat_minor": 1
}
