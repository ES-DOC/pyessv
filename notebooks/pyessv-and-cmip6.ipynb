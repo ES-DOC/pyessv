{
 "cells": [
  {
   "cell_type": "markdown",
   "metadata": {},
   "source": [
    "# CMIP6 vocabularies with pyessv "
   ]
  },
  {
   "cell_type": "markdown",
   "metadata": {},
   "source": [
    "1. pyessv is a pragmatic, simple to use vocabulary management tool\n",
    "2. pyessv archive has been [seeded](https://github.com/ES-DOC/pyessv-writer/blob/master/sh/write_wcrp_cmip6.py) with CV's pulled from [WCRP-CMIP CMIP6 CVs](https://github.com/WCRP-CMIP/CMIP6_CVs)\n",
    "3. pyessv CV data model is built upon the idea of nodes, there are 4 node types:  \n",
    "   3.1  Authority (e.g. WCRP)  \n",
    "   3.2  Scope (e.g. CMIP6)  \n",
    "   3.3  Collection (e.g. institution-id)  \n",
    "   3.4  Term (e.g. noaa-gfdl)  "
   ]
  },
  {
   "cell_type": "markdown",
   "metadata": {},
   "source": [
    "## Pre-Requisites"
   ]
  },
  {
   "cell_type": "markdown",
   "metadata": {},
   "source": [
    "Clone pyessv-archive GitHub repository to home folder:  \n",
    "    \n",
    "    mkdir -p ~/.esdoc \n",
    "    git clone https://github.com/ES-DOC/pyessv-archive.git ~/.esdoc/pyessv-archive"
   ]
  },
  {
   "cell_type": "markdown",
   "metadata": {},
   "source": [
    "## Setup"
   ]
  },
  {
   "cell_type": "code",
   "execution_count": null,
   "metadata": {},
   "outputs": [],
   "source": [
    "# The library auto-initializes upon import.  \n",
    "import pyessv"
   ]
  },
  {
   "cell_type": "markdown",
   "metadata": {},
   "source": [
    "## Accessing"
   ]
  },
  {
   "cell_type": "code",
   "execution_count": null,
   "metadata": {},
   "outputs": [],
   "source": [
    "# Authority: WCRP.\n",
    "wcrp = pyessv.WCRP \n",
    "assert isinstance(wcrp, pyessv.Authority)\n",
    "\n",
    "# Scope: CMIP6.\n",
    "cmip6 = wcrp.cmip6\n",
    "assert isinstance(cmip6, pyessv.Scope)\n",
    "\n",
    "# Collection: institutions.\n",
    "institutions = cmip6.institution_id\n",
    "assert isinstance(institutions, pyessv.Collection)\n",
    "\n",
    "# Term: IPSL.\n",
    "noaa_gfdl = institutions.noaa_gfdl\n",
    "assert isinstance(noaa_gfdl, pyessv.Term)"
   ]
  },
  {
   "cell_type": "markdown",
   "metadata": {},
   "source": [
    "## Loading by namespace"
   ]
  },
  {
   "cell_type": "code",
   "execution_count": null,
   "metadata": {},
   "outputs": [],
   "source": [
    "# Load authority: WCRP.\n",
    "assert pyessv.load('wcrp') == wcrp\n",
    "\n",
    "# Load scope: CMIP6.\n",
    "assert pyessv.load('wcrp:cmip6') == cmip6\n",
    "\n",
    "# Load collection: institutions.\n",
    "assert pyessv.load('wcrp:cmip6:institution-id') == institutions\n",
    "\n",
    "# Load term: IPSL.\n",
    "assert pyessv.load('wcrp:cmip6:institution-id:noaa-gfdl') == noaa_gfdl"
   ]
  },
  {
   "cell_type": "markdown",
   "metadata": {},
   "source": [
    "## Iterating"
   ]
  },
  {
   "cell_type": "markdown",
   "metadata": {},
   "source": [
    "#### Simple iteration of vocabulary hierarchy"
   ]
  },
  {
   "cell_type": "code",
   "execution_count": null,
   "metadata": {},
   "outputs": [],
   "source": [
    "# Iterate scopes managed by an authority.\n",
    "for scope in wcrp:\n",
    "    assert isinstance(scope, pyessv.Scope)\n",
    "    \n",
    "# Iterate collections within a scope.\n",
    "for collection in cmip6:\n",
    "    assert isinstance(collection, pyessv.Collection)\n",
    "    \n",
    "# Iterate terms within a collection.\n",
    "for term in institutions:\n",
    "    assert isinstance(term, pyessv.Term)"
   ]
  },
  {
   "cell_type": "markdown",
   "metadata": {},
   "source": [
    "#### Iterables are sorted"
   ]
  },
  {
   "cell_type": "code",
   "execution_count": null,
   "metadata": {
    "scrolled": true
   },
   "outputs": [],
   "source": [
    "# Iterables are sorted: scopes\n",
    "for scope in wcrp:\n",
    "    print(scope)\n",
    "    for collection in cmip6:\n",
    "        print(collection)\n",
    "        for term in institutions:\n",
    "            print(term)"
   ]
  },
  {
   "cell_type": "markdown",
   "metadata": {},
   "source": [
    "#### Key or attribute based access"
   ]
  },
  {
   "cell_type": "code",
   "execution_count": null,
   "metadata": {},
   "outputs": [],
   "source": [
    "# Set scope: CMIP6.\n",
    "assert wcrp['cmip6'] == cmip6\n",
    "assert wcrp.cmip6 == cmip6\n",
    "\n",
    "# Set collection: institution-id.\n",
    "assert wcrp['cmip6']['institution-id'] == institutions\n",
    "assert wcrp.cmip6.institution_id == institutions\n",
    "\n",
    "# Set term: ipsl.\n",
    "assert wcrp['cmip6']['institution-id']['noaa-gfdl'] == noaa_gfdl\n",
    "assert wcrp.cmip6.institution_id.noaa_gfdl == noaa_gfdl"
   ]
  },
  {
   "cell_type": "markdown",
   "metadata": {},
   "source": [
    "## Properties"
   ]
  },
  {
   "cell_type": "markdown",
   "metadata": {},
   "source": [
    "#### All domain objects have the following standard properties: description, label, name, namespace, raw_name, uid, url"
   ]
  },
  {
   "cell_type": "markdown",
   "metadata": {},
   "source": [
    "### Authority properties"
   ]
  },
  {
   "cell_type": "code",
   "execution_count": null,
   "metadata": {},
   "outputs": [],
   "source": [
    "# Canonical name (ALWAYS lower cased).\n",
    "print('Authority canonical_name = {}'.format(wcrp.canonical_name))\n",
    "\n",
    "# Raw name.\n",
    "print('Authority raw_name = {}'.format(wcrp.raw_name))\n",
    "\n",
    "# Label for UI purposes.\n",
    "print('Authority label = {}'.format(wcrp.label))\n",
    "\n",
    "# Description.\n",
    "print('Authority description = {}'.format(wcrp.description))\n",
    "\n",
    "# Homepage / URL.\n",
    "print('Authority url = {}'.format(wcrp.url))\n",
    "\n",
    "# Namespace.\n",
    "print('Authority namespace = {}'.format(wcrp.namespace))\n",
    "\n",
    "# Universally unique identifier (assigned at point of creation).\n",
    "print('Authority uid = {}'.format(wcrp.uid))\n",
    "\n",
    "# Creation date\n",
    "print('Authority create_date = {}'.format(wcrp.create_date))"
   ]
  },
  {
   "cell_type": "markdown",
   "metadata": {},
   "source": [
    "### Scope properties"
   ]
  },
  {
   "cell_type": "code",
   "execution_count": null,
   "metadata": {},
   "outputs": [],
   "source": [
    "# Canonical name (ALWAYS lower cased).\n",
    "print('Scope canonical_name = {}'.format(cmip6.canonical_name))\n",
    "\n",
    "# Raw name.\n",
    "print('Scope raw_name = {}'.format(cmip6.raw_name))\n",
    "\n",
    "# Label for UI purposes.\n",
    "print('Scope label = {}'.format(cmip6.label))\n",
    "\n",
    "# Description.\n",
    "print('Scope description = {}'.format(cmip6.description))\n",
    "\n",
    "# Homepage / URL.\n",
    "print('Scope url = {}'.format(cmip6.url))\n",
    "\n",
    "# Namespace.\n",
    "print('Scope namespace = {}'.format(cmip6.namespace))\n",
    "\n",
    "# Universally unique identifier (assigned at point of creation).\n",
    "print('Scope uid = {}'.format(cmip6.uid))\n",
    "\n",
    "# Creation date\n",
    "print('Scope create_date = {}'.format(cmip6.create_date))"
   ]
  },
  {
   "cell_type": "markdown",
   "metadata": {},
   "source": [
    "### Collection properties"
   ]
  },
  {
   "cell_type": "code",
   "execution_count": null,
   "metadata": {},
   "outputs": [],
   "source": [
    "# Canonical name (ALWAYS lower cased).\n",
    "print('Collection canonical_name = {}'.format(institutions.canonical_name))\n",
    "\n",
    "# Raw name.\n",
    "print('Collection raw_name = {}'.format(institutions.raw_name))\n",
    "\n",
    "# Label for UI purposes.\n",
    "print('Collection label = {}'.format(institutions.label))\n",
    "\n",
    "# Description.\n",
    "print('Collection description = {}'.format(institutions.description))\n",
    "\n",
    "# Homepage / URL.\n",
    "print('Collection url = {}'.format(institutions.url))\n",
    "\n",
    "# Namespace.\n",
    "print('Collection namespace = {}'.format(institutions.namespace))\n",
    "\n",
    "# Universally unique identifier (assigned at point of creation).\n",
    "print('Collection uid = {}'.format(institutions.uid))\n",
    "\n",
    "# Creation date\n",
    "print('Collection create_date = {}'.format(institutions.create_date))"
   ]
  },
  {
   "cell_type": "markdown",
   "metadata": {},
   "source": [
    "### Term properties"
   ]
  },
  {
   "cell_type": "code",
   "execution_count": null,
   "metadata": {},
   "outputs": [],
   "source": [
    "# Canonical name (ALWAYS lower cased).\n",
    "print('Term canonical_name = {}'.format(noaa_gfdl.canonical_name))\n",
    "\n",
    "# Raw name.\n",
    "print('Term raw_name = {}'.format(noaa_gfdl.raw_name))\n",
    "\n",
    "# Label for UI purposes.\n",
    "print('Term label = {}'.format(noaa_gfdl.label))\n",
    "\n",
    "# Description (optional).\n",
    "print('Term description = {}'.format(noaa_gfdl.description))\n",
    "\n",
    "# Homepage / URL (optional).\n",
    "print('Term url = {}'.format(noaa_gfdl.url))\n",
    "\n",
    "# Namespace.\n",
    "print('Term namespace = {}'.format(noaa_gfdl.namespace))\n",
    "\n",
    "# Governance status.\n",
    "print('Term status = {}'.format(noaa_gfdl.status))\n",
    "\n",
    "# Creation date\n",
    "print('Term create_date = {}'.format(noaa_gfdl.create_date))"
   ]
  },
  {
   "cell_type": "markdown",
   "metadata": {},
   "source": [
    "## Encoding"
   ]
  },
  {
   "cell_type": "code",
   "execution_count": null,
   "metadata": {},
   "outputs": [],
   "source": [
    "# Encode authority as a python dictionary.\n",
    "assert isinstance(pyessv.encode(wcrp, 'dict'), dict)\n",
    "\n",
    "# Encode scope as a python dictionary.\n",
    "assert isinstance(pyessv.encode(cmip6, 'dict'), dict)\n",
    "\n",
    "# Encode collection as a python dictionary.\n",
    "assert isinstance(pyessv.encode(institutions, 'dict'), dict)\n",
    "\n",
    "# Encode term as a python dictionary.\n",
    "assert isinstance(pyessv.encode(noaa_gfdl, 'dict'), dict)"
   ]
  },
  {
   "cell_type": "code",
   "execution_count": null,
   "metadata": {},
   "outputs": [],
   "source": [
    "# Encode authority as a JSON text blob.\n",
    "assert isinstance(pyessv.encode(wcrp, 'json'), basestring)\n",
    "\n",
    "# Encode scope as a JSON text blob.\n",
    "assert isinstance(pyessv.encode(cmip6), basestring)\n",
    "\n",
    "# Encode collection as a JSON text blob.\n",
    "assert isinstance(pyessv.encode(institutions), basestring)\n",
    "\n",
    "# Encode term as a JSON text blob.\n",
    "assert isinstance(pyessv.encode(noaa_gfdl), basestring)"
   ]
  },
  {
   "cell_type": "markdown",
   "metadata": {},
   "source": [
    "## Parsing"
   ]
  },
  {
   "cell_type": "markdown",
   "metadata": {},
   "source": [
    "#### Parsing strictness options"
   ]
  },
  {
   "cell_type": "code",
   "execution_count": null,
   "metadata": {
    "scrolled": true
   },
   "outputs": [],
   "source": [
    "# Parsing strictness 0: canonical-name;\n",
    "assert pyessv.PARSING_STRICTNESS_0 == 0\n",
    "\n",
    "# Parsing strictness 1: raw-name;\n",
    "assert pyessv.PARSING_STRICTNESS_1 == 1\n",
    "\n",
    "# Parsing strictness 2: canonical-name + raw-name;\n",
    "# NOTE - this is the default;\n",
    "assert pyessv.PARSING_STRICTNESS_2 == 2\n",
    "\n",
    "# Parsing strictness 3: 2 + synonyms\n",
    "assert pyessv.PARSING_STRICTNESS_3 == 3\n",
    "\n",
    "# Parsing strictness 4: 3 + case-insensitive\n",
    "assert pyessv.PARSING_STRICTNESS_4 == 4"
   ]
  },
  {
   "cell_type": "markdown",
   "metadata": {},
   "source": [
    "#### Parsing level 0 - canonical name"
   ]
  },
  {
   "cell_type": "code",
   "execution_count": null,
   "metadata": {},
   "outputs": [],
   "source": [
    "assert pyessv.parse('wcrp', strictness=0) == 'wcrp'\n",
    "assert pyessv.parse('wcrp:cmip6', strictness=0) == 'cmip6'\n",
    "assert pyessv.parse('wcrp:cmip6:institution-id', strictness=0) == 'institution-id'\n",
    "assert pyessv.parse('wcrp:cmip6:institution-id:ipsl', strictness=0) == 'ipsl'"
   ]
  },
  {
   "cell_type": "markdown",
   "metadata": {},
   "source": [
    "#### Parsing level 1 - raw name"
   ]
  },
  {
   "cell_type": "code",
   "execution_count": null,
   "metadata": {},
   "outputs": [],
   "source": [
    "assert pyessv.parse('WCRP', strictness=1) == 'wcrp'\n",
    "assert pyessv.parse('WCRP:CMIP6', strictness=1) == 'cmip6'\n",
    "assert pyessv.parse('WCRP:CMIP6:institution_id', strictness=1) == 'institution-id'\n",
    "assert pyessv.parse('WCRP:CMIP6:institution_id:IPSL', strictness=1) == 'ipsl'"
   ]
  },
  {
   "cell_type": "markdown",
   "metadata": {},
   "source": [
    "#### Parsing level 2 - canonical name | raw name"
   ]
  },
  {
   "cell_type": "code",
   "execution_count": null,
   "metadata": {},
   "outputs": [],
   "source": [
    "assert pyessv.parse('WCRP', strictness=2) == 'wcrp'\n",
    "assert pyessv.parse('WCRP:cmip6', strictness=2) == 'cmip6'\n",
    "assert pyessv.parse('WCRP:cmip6:institution_id', strictness=2) == 'institution-id'\n",
    "assert pyessv.parse('WCRP:cmip6:institution_id:IPSL', strictness=2) == 'ipsl'"
   ]
  },
  {
   "cell_type": "markdown",
   "metadata": {},
   "source": [
    "#### Parsing level 4 - canonical name | raw name | synonyms | case-insensitive"
   ]
  },
  {
   "cell_type": "code",
   "execution_count": null,
   "metadata": {},
   "outputs": [],
   "source": [
    "# Parsing strictness 4: 3 + case-insensitive\n",
    "assert pyessv.parse('wCRp', strictness=4) == 'wcrp'\n",
    "assert pyessv.parse('wCRp:cMIp6', strictness=4) == 'cmip6'\n",
    "assert pyessv.parse('wCRp:cMIp6:inSTitutION-id', strictness=4) == 'institution-id'\n",
    "assert pyessv.parse('wCRp:cMIp6:inSTitutION-id:IPsl', strictness=4) == 'ipsl'"
   ]
  },
  {
   "cell_type": "markdown",
   "metadata": {},
   "source": [
    "#### Parsing error is raised (& logged) upon an unsuccessful parse"
   ]
  },
  {
   "cell_type": "code",
   "execution_count": null,
   "metadata": {},
   "outputs": [],
   "source": [
    "# Parse invalid authority.\n",
    "try:\n",
    "    pyessv.parse('xxx')\n",
    "except pyessv.ParsingError:\n",
    "    pass"
   ]
  },
  {
   "cell_type": "code",
   "execution_count": null,
   "metadata": {},
   "outputs": [],
   "source": [
    "# Parse invalid scope.\n",
    "try:\n",
    "    pyessv.parse('wcrp:xxx')\n",
    "except pyessv.ParsingError:\n",
    "    pass"
   ]
  },
  {
   "cell_type": "code",
   "execution_count": null,
   "metadata": {},
   "outputs": [],
   "source": [
    "# Parse invalid collection.\n",
    "try:\n",
    "    pyessv.parse('wcrp:cmip6:xxx')\n",
    "except pyessv.ParsingError:\n",
    "    pass"
   ]
  },
  {
   "cell_type": "code",
   "execution_count": null,
   "metadata": {},
   "outputs": [],
   "source": [
    "# Parse invalid term.\n",
    "try:\n",
    "    pyessv.parse('wcrp:cmip6:institution-id:xxx')\n",
    "except pyessv.ParsingError:\n",
    "    pass"
   ]
  },
  {
   "cell_type": "markdown",
   "metadata": {},
   "source": [
    "## Regular Expression Collections"
   ]
  },
  {
   "cell_type": "code",
   "execution_count": null,
   "metadata": {},
   "outputs": [],
   "source": [
    "# Create a collection specifying a regular expression to be applied against terms.\n",
    "ensemble_members = pyessv.create_collection(\n",
    "    cmip6,\n",
    "    \"test-regex-collection\", \n",
    "    description=\"Ensemble member\",\n",
    "    term_regex=r'r[0-9]i[0-9]p[0-9]f[0-9]'\n",
    ")\n",
    "\n",
    "# Create a valid term.\n",
    "term = pyessv.create_term(ensemble_members, \"r1i1p1f1\", description=\"valid-regex-term\")\n",
    "assert pyessv.is_valid(term) == True\n",
    "\n",
    "# # Create an invalid term - raises ValidationError.\n",
    "try:\n",
    "    pyessv.create_term(ensemble_members, \"ABC-DEF\", \"invalid-regex-term\")\n",
    "except pyessv.ValidationError:\n",
    "    pass\n",
    "\n",
    "# Parse a name.\n",
    "assert pyessv.parse('wcrp:cmip6:test-regex-collection:r1i1p1f1') == 'r1i1p1f1'"
   ]
  },
  {
   "cell_type": "markdown",
   "metadata": {},
   "source": [
    "## Template parsing"
   ]
  },
  {
   "cell_type": "markdown",
   "metadata": {},
   "source": [
    "#### Specify a string template plus associated CV collections then create parser."
   ]
  },
  {
   "cell_type": "code",
   "execution_count": null,
   "metadata": {},
   "outputs": [],
   "source": [
    "# Set template.\n",
    "template = 'ciclad/CMIP6/{}/{}/{}/{}/afilename.nc1'\n",
    "\n",
    "# Set seperator.\n",
    "seperator = '/'\n",
    "\n",
    "# Set collections.\n",
    "collections = (\n",
    "    'wcrp:cmip6:institution-id',\n",
    "    'wcrp:cmip6:activity-id',\n",
    "    'wcrp:cmip6:source-id',\n",
    "    'wcrp:cmip6:experiment-id'\n",
    "    )\n",
    "\n",
    "# Set parsing stricness = 1 (raw-name).  \n",
    "strictness = pyessv.PARSING_STRICTNESS_1\n",
    "\n",
    "# Create parser.\n",
    "parser = pyessv.create_template_parser(template, collections, strictness, seperator)\n",
    "\n",
    "# Parsing: valid.\n",
    "# parser.parse('ciclad/CMIP6/ipsl/dcpp/hadgem3-gc31-ll/dcppc-atl-spg/afilename.nc1')\n",
    "parser.parse('ciclad/CMIP6/IPSL/DCPP/HadGEM3-GC31-LL/dcppC-atl-spg/afilename.nc1')\n",
    "\n",
    "# Parsing: invalid - raises TemplateParsingError. \n",
    "try:\n",
    "    parser.parse('ciclad/cmip6/WWW/XXX/YYY/ZZZ/afilename.nc1')\n",
    "except pyessv.TemplateParsingError:\n",
    "    pass"
   ]
  },
  {
   "cell_type": "code",
   "execution_count": null,
   "metadata": {},
   "outputs": [],
   "source": []
  }
 ],
 "metadata": {
  "kernelspec": {
   "display_name": "Python 2",
   "language": "python",
   "name": "python2"
  },
  "language_info": {
   "codemirror_mode": {
    "name": "ipython",
    "version": 2
   },
   "file_extension": ".py",
   "mimetype": "text/x-python",
   "name": "python",
   "nbconvert_exporter": "python",
   "pygments_lexer": "ipython2",
   "version": "2.7.17"
  }
 },
 "nbformat": 4,
 "nbformat_minor": 1
}
