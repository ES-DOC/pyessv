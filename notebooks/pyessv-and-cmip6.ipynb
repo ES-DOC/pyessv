{
 "cells": [
  {
   "cell_type": "markdown",
   "metadata": {},
   "source": [
    "# CMIP6 vocabularies with pyessv "
   ]
  },
  {
   "cell_type": "markdown",
   "metadata": {},
   "source": [
    "1. pyessv is a pragmatic, simple to use vocabulary management tool\n",
    "2. pyessv archive has been [seeded](https://github.com/ES-DOC/pyessv-writer/blob/master/sh/write_wcrp_cmip6.py) with CV's pulled from [WCRP-CMIP CMIP6 CVs](https://github.com/WCRP-CMIP/CMIP6_CVs)\n",
    "3. pyessv CV data model:  \n",
    "   3.1  Authority (e.g. WCRP)  \n",
    "   3.2  Scope (e.g. CMIP6)  \n",
    "   3.3  Collection (e.g. institution-id)  \n",
    "   3.4  Term (e.g. noaa-gfdl)  "
   ]
  },
  {
   "cell_type": "markdown",
   "metadata": {},
   "source": [
    "## Pre-Requisites"
   ]
  },
  {
   "cell_type": "markdown",
   "metadata": {},
   "source": [
    "1.  Download pyessv-archive repository to local file system:  \n",
    "    \n",
    "    git clone https://github.com/ES-DOC/pyessv-archive.git YOUR_WORK_DIRECTORY  \n",
    "    \n",
    "\n",
    "2.  Create ES-DOC pyessv folder:  \n",
    "\n",
    "    mkdir ~/.esdoc/pyessv\n",
    "    \n",
    "3.  Create authority sym links:\n",
    "\n",
    "    ln -s YOUR_WORK_DIRECTORY/pyessv-archive/wcrp ~/.esdoc/pyessv"
   ]
  },
  {
   "cell_type": "markdown",
   "metadata": {},
   "source": [
    "## Setup"
   ]
  },
  {
   "cell_type": "code",
   "execution_count": 1,
   "metadata": {
    "collapsed": false
   },
   "outputs": [
    {
     "name": "stdout",
     "output_type": "stream",
     "text": [
      "2017-05-22T11:54:18.212897 [INFO] :: ES-DOC PYESSV :: Loading vocabularies from /Users/macg/.esdoc/pyessv-archive:\n",
      "2017-05-22T11:54:18.737631 [INFO] :: ES-DOC PYESSV :: ... loaded: wcrp\n"
     ]
    }
   ],
   "source": [
    "import pyessv"
   ]
  },
  {
   "cell_type": "markdown",
   "metadata": {},
   "source": [
    "## Loading"
   ]
  },
  {
   "cell_type": "markdown",
   "metadata": {},
   "source": [
    "#### Loading by namespace"
   ]
  },
  {
   "cell_type": "code",
   "execution_count": 2,
   "metadata": {
    "collapsed": false
   },
   "outputs": [],
   "source": [
    "# Load authority: WCRP (once loaded it is cached).\n",
    "wcrp = pyessv.load('wcrp')\n",
    "assert isinstance(wcrp, pyessv.Authority)"
   ]
  },
  {
   "cell_type": "code",
   "execution_count": 3,
   "metadata": {
    "collapsed": true
   },
   "outputs": [],
   "source": [
    "# Load scope: CMIP6.\n",
    "cmip6 = pyessv.load('wcrp:cmip6')\n",
    "assert isinstance(cmip6, pyessv.Scope)"
   ]
  },
  {
   "cell_type": "code",
   "execution_count": 4,
   "metadata": {
    "collapsed": true
   },
   "outputs": [],
   "source": [
    "# Load collection: institutions.\n",
    "institutions = pyessv.load('wcrp:cmip6:institution-id')\n",
    "assert isinstance(institutions, pyessv.Collection)"
   ]
  },
  {
   "cell_type": "code",
   "execution_count": 5,
   "metadata": {
    "collapsed": true
   },
   "outputs": [],
   "source": [
    "# Load term: IPSL.\n",
    "gfdl = pyessv.load('wcrp:cmip6:institution-id:noaa-gfdl')\n",
    "assert isinstance(gfdl, pyessv.Term)"
   ]
  },
  {
   "cell_type": "markdown",
   "metadata": {},
   "source": [
    "#### Loading by unique identifer"
   ]
  },
  {
   "cell_type": "code",
   "execution_count": 6,
   "metadata": {
    "collapsed": false
   },
   "outputs": [],
   "source": [
    "wcrp == pyessv.load('62663984-eb8b-4c3f-a70a-e54c62d62774')\n",
    "assert isinstance(wcrp, pyessv.Authority)"
   ]
  },
  {
   "cell_type": "code",
   "execution_count": 7,
   "metadata": {
    "collapsed": false
   },
   "outputs": [],
   "source": [
    "cmip6 == pyessv.load('39feab1d-889a-442d-938e-568c263cb642')\n",
    "assert isinstance(cmip6, pyessv.Scope)"
   ]
  },
  {
   "cell_type": "code",
   "execution_count": 8,
   "metadata": {
    "collapsed": false
   },
   "outputs": [],
   "source": [
    "institutions == pyessv.load('4d5aa940-139b-45d0-ad5f-6e768f682108')\n",
    "assert isinstance(institutions, pyessv.Collection)"
   ]
  },
  {
   "cell_type": "code",
   "execution_count": 9,
   "metadata": {
    "collapsed": false
   },
   "outputs": [],
   "source": [
    "gfdl == pyessv.load('012a1913-f6c5-4d89-b41f-95a1c25a773c')\n",
    "assert isinstance(gfdl, pyessv.Term)"
   ]
  },
  {
   "cell_type": "markdown",
   "metadata": {},
   "source": [
    "## Iteration"
   ]
  },
  {
   "cell_type": "markdown",
   "metadata": {},
   "source": [
    "#### Simple iteration of vocabulary hierarchy"
   ]
  },
  {
   "cell_type": "code",
   "execution_count": 10,
   "metadata": {
    "collapsed": false
   },
   "outputs": [],
   "source": [
    "# Iterate scopes managed by an authority.\n",
    "for scope in wcrp:\n",
    "    assert isinstance(scope, pyessv.Scope)\n",
    "    \n",
    "# Iterate collections within a scope.\n",
    "for collection in cmip6:\n",
    "    assert isinstance(collection, pyessv.Collection)\n",
    "    \n",
    "# Iterate terms within a collection.\n",
    "for term in institutions:\n",
    "    assert isinstance(term, pyessv.Term)"
   ]
  },
  {
   "cell_type": "markdown",
   "metadata": {},
   "source": [
    "#### Iterables are sorted"
   ]
  },
  {
   "cell_type": "code",
   "execution_count": 11,
   "metadata": {
    "collapsed": false
   },
   "outputs": [
    {
     "name": "stdout",
     "output_type": "stream",
     "text": [
      "wcrp:cmip6\n",
      "wcrp:cmip6:activity-id\n",
      "wcrp:cmip6:institution-id:awi\n",
      "wcrp:cmip6:institution-id:bnu\n",
      "wcrp:cmip6:institution-id:cams\n",
      "wcrp:cmip6:institution-id:cccma\n",
      "wcrp:cmip6:institution-id:cccr-iitm\n",
      "wcrp:cmip6:institution-id:cmcc\n",
      "wcrp:cmip6:institution-id:cnrm-cerfacs\n",
      "wcrp:cmip6:institution-id:cola-cfs\n",
      "wcrp:cmip6:institution-id:csir-csiro\n",
      "wcrp:cmip6:institution-id:csiro-bom\n",
      "wcrp:cmip6:institution-id:ec-earth-consortium\n",
      "wcrp:cmip6:institution-id:fio-ronm\n",
      "wcrp:cmip6:institution-id:inm\n",
      "wcrp:cmip6:institution-id:inpe\n",
      "wcrp:cmip6:institution-id:ipsl\n",
      "wcrp:cmip6:institution-id:lasg-iap\n",
      "wcrp:cmip6:institution-id:messy-consortium\n",
      "wcrp:cmip6:institution-id:miroc\n",
      "wcrp:cmip6:institution-id:mohc\n",
      "wcrp:cmip6:institution-id:mpi-m\n",
      "wcrp:cmip6:institution-id:mri\n",
      "wcrp:cmip6:institution-id:nasa-giss\n",
      "wcrp:cmip6:institution-id:ncar\n",
      "wcrp:cmip6:institution-id:ncc\n",
      "wcrp:cmip6:institution-id:nerc\n",
      "wcrp:cmip6:institution-id:nims-kma\n",
      "wcrp:cmip6:institution-id:noaa-gfdl\n",
      "wcrp:cmip6:institution-id:noaa-ncep\n",
      "wcrp:cmip6:institution-id:nuist\n",
      "wcrp:cmip6:institution-id:pcmdi\n",
      "wcrp:cmip6:institution-id:thu\n",
      "wcrp:cmip6:experiment-id\n",
      "wcrp:cmip6:institution-id:awi\n",
      "wcrp:cmip6:institution-id:bnu\n",
      "wcrp:cmip6:institution-id:cams\n",
      "wcrp:cmip6:institution-id:cccma\n",
      "wcrp:cmip6:institution-id:cccr-iitm\n",
      "wcrp:cmip6:institution-id:cmcc\n",
      "wcrp:cmip6:institution-id:cnrm-cerfacs\n",
      "wcrp:cmip6:institution-id:cola-cfs\n",
      "wcrp:cmip6:institution-id:csir-csiro\n",
      "wcrp:cmip6:institution-id:csiro-bom\n",
      "wcrp:cmip6:institution-id:ec-earth-consortium\n",
      "wcrp:cmip6:institution-id:fio-ronm\n",
      "wcrp:cmip6:institution-id:inm\n",
      "wcrp:cmip6:institution-id:inpe\n",
      "wcrp:cmip6:institution-id:ipsl\n",
      "wcrp:cmip6:institution-id:lasg-iap\n",
      "wcrp:cmip6:institution-id:messy-consortium\n",
      "wcrp:cmip6:institution-id:miroc\n",
      "wcrp:cmip6:institution-id:mohc\n",
      "wcrp:cmip6:institution-id:mpi-m\n",
      "wcrp:cmip6:institution-id:mri\n",
      "wcrp:cmip6:institution-id:nasa-giss\n",
      "wcrp:cmip6:institution-id:ncar\n",
      "wcrp:cmip6:institution-id:ncc\n",
      "wcrp:cmip6:institution-id:nerc\n",
      "wcrp:cmip6:institution-id:nims-kma\n",
      "wcrp:cmip6:institution-id:noaa-gfdl\n",
      "wcrp:cmip6:institution-id:noaa-ncep\n",
      "wcrp:cmip6:institution-id:nuist\n",
      "wcrp:cmip6:institution-id:pcmdi\n",
      "wcrp:cmip6:institution-id:thu\n",
      "wcrp:cmip6:frequency\n",
      "wcrp:cmip6:institution-id:awi\n",
      "wcrp:cmip6:institution-id:bnu\n",
      "wcrp:cmip6:institution-id:cams\n",
      "wcrp:cmip6:institution-id:cccma\n",
      "wcrp:cmip6:institution-id:cccr-iitm\n",
      "wcrp:cmip6:institution-id:cmcc\n",
      "wcrp:cmip6:institution-id:cnrm-cerfacs\n",
      "wcrp:cmip6:institution-id:cola-cfs\n",
      "wcrp:cmip6:institution-id:csir-csiro\n",
      "wcrp:cmip6:institution-id:csiro-bom\n",
      "wcrp:cmip6:institution-id:ec-earth-consortium\n",
      "wcrp:cmip6:institution-id:fio-ronm\n",
      "wcrp:cmip6:institution-id:inm\n",
      "wcrp:cmip6:institution-id:inpe\n",
      "wcrp:cmip6:institution-id:ipsl\n",
      "wcrp:cmip6:institution-id:lasg-iap\n",
      "wcrp:cmip6:institution-id:messy-consortium\n",
      "wcrp:cmip6:institution-id:miroc\n",
      "wcrp:cmip6:institution-id:mohc\n",
      "wcrp:cmip6:institution-id:mpi-m\n",
      "wcrp:cmip6:institution-id:mri\n",
      "wcrp:cmip6:institution-id:nasa-giss\n",
      "wcrp:cmip6:institution-id:ncar\n",
      "wcrp:cmip6:institution-id:ncc\n",
      "wcrp:cmip6:institution-id:nerc\n",
      "wcrp:cmip6:institution-id:nims-kma\n",
      "wcrp:cmip6:institution-id:noaa-gfdl\n",
      "wcrp:cmip6:institution-id:noaa-ncep\n",
      "wcrp:cmip6:institution-id:nuist\n",
      "wcrp:cmip6:institution-id:pcmdi\n",
      "wcrp:cmip6:institution-id:thu\n",
      "wcrp:cmip6:grid-label\n",
      "wcrp:cmip6:institution-id:awi\n",
      "wcrp:cmip6:institution-id:bnu\n",
      "wcrp:cmip6:institution-id:cams\n",
      "wcrp:cmip6:institution-id:cccma\n",
      "wcrp:cmip6:institution-id:cccr-iitm\n",
      "wcrp:cmip6:institution-id:cmcc\n",
      "wcrp:cmip6:institution-id:cnrm-cerfacs\n",
      "wcrp:cmip6:institution-id:cola-cfs\n",
      "wcrp:cmip6:institution-id:csir-csiro\n",
      "wcrp:cmip6:institution-id:csiro-bom\n",
      "wcrp:cmip6:institution-id:ec-earth-consortium\n",
      "wcrp:cmip6:institution-id:fio-ronm\n",
      "wcrp:cmip6:institution-id:inm\n",
      "wcrp:cmip6:institution-id:inpe\n",
      "wcrp:cmip6:institution-id:ipsl\n",
      "wcrp:cmip6:institution-id:lasg-iap\n",
      "wcrp:cmip6:institution-id:messy-consortium\n",
      "wcrp:cmip6:institution-id:miroc\n",
      "wcrp:cmip6:institution-id:mohc\n",
      "wcrp:cmip6:institution-id:mpi-m\n",
      "wcrp:cmip6:institution-id:mri\n",
      "wcrp:cmip6:institution-id:nasa-giss\n",
      "wcrp:cmip6:institution-id:ncar\n",
      "wcrp:cmip6:institution-id:ncc\n",
      "wcrp:cmip6:institution-id:nerc\n",
      "wcrp:cmip6:institution-id:nims-kma\n",
      "wcrp:cmip6:institution-id:noaa-gfdl\n",
      "wcrp:cmip6:institution-id:noaa-ncep\n",
      "wcrp:cmip6:institution-id:nuist\n",
      "wcrp:cmip6:institution-id:pcmdi\n",
      "wcrp:cmip6:institution-id:thu\n",
      "wcrp:cmip6:institution-id\n",
      "wcrp:cmip6:institution-id:awi\n",
      "wcrp:cmip6:institution-id:bnu\n",
      "wcrp:cmip6:institution-id:cams\n",
      "wcrp:cmip6:institution-id:cccma\n",
      "wcrp:cmip6:institution-id:cccr-iitm\n",
      "wcrp:cmip6:institution-id:cmcc\n",
      "wcrp:cmip6:institution-id:cnrm-cerfacs\n",
      "wcrp:cmip6:institution-id:cola-cfs\n",
      "wcrp:cmip6:institution-id:csir-csiro\n",
      "wcrp:cmip6:institution-id:csiro-bom\n",
      "wcrp:cmip6:institution-id:ec-earth-consortium\n",
      "wcrp:cmip6:institution-id:fio-ronm\n",
      "wcrp:cmip6:institution-id:inm\n",
      "wcrp:cmip6:institution-id:inpe\n",
      "wcrp:cmip6:institution-id:ipsl\n",
      "wcrp:cmip6:institution-id:lasg-iap\n",
      "wcrp:cmip6:institution-id:messy-consortium\n",
      "wcrp:cmip6:institution-id:miroc\n",
      "wcrp:cmip6:institution-id:mohc\n",
      "wcrp:cmip6:institution-id:mpi-m\n",
      "wcrp:cmip6:institution-id:mri\n",
      "wcrp:cmip6:institution-id:nasa-giss\n",
      "wcrp:cmip6:institution-id:ncar\n",
      "wcrp:cmip6:institution-id:ncc\n",
      "wcrp:cmip6:institution-id:nerc\n",
      "wcrp:cmip6:institution-id:nims-kma\n",
      "wcrp:cmip6:institution-id:noaa-gfdl\n",
      "wcrp:cmip6:institution-id:noaa-ncep\n",
      "wcrp:cmip6:institution-id:nuist\n",
      "wcrp:cmip6:institution-id:pcmdi\n",
      "wcrp:cmip6:institution-id:thu\n",
      "wcrp:cmip6:nominal-resolution\n",
      "wcrp:cmip6:institution-id:awi\n",
      "wcrp:cmip6:institution-id:bnu\n",
      "wcrp:cmip6:institution-id:cams\n",
      "wcrp:cmip6:institution-id:cccma\n",
      "wcrp:cmip6:institution-id:cccr-iitm\n",
      "wcrp:cmip6:institution-id:cmcc\n",
      "wcrp:cmip6:institution-id:cnrm-cerfacs\n",
      "wcrp:cmip6:institution-id:cola-cfs\n",
      "wcrp:cmip6:institution-id:csir-csiro\n",
      "wcrp:cmip6:institution-id:csiro-bom\n",
      "wcrp:cmip6:institution-id:ec-earth-consortium\n",
      "wcrp:cmip6:institution-id:fio-ronm\n",
      "wcrp:cmip6:institution-id:inm\n",
      "wcrp:cmip6:institution-id:inpe\n",
      "wcrp:cmip6:institution-id:ipsl\n",
      "wcrp:cmip6:institution-id:lasg-iap\n",
      "wcrp:cmip6:institution-id:messy-consortium\n",
      "wcrp:cmip6:institution-id:miroc\n",
      "wcrp:cmip6:institution-id:mohc\n",
      "wcrp:cmip6:institution-id:mpi-m\n",
      "wcrp:cmip6:institution-id:mri\n",
      "wcrp:cmip6:institution-id:nasa-giss\n",
      "wcrp:cmip6:institution-id:ncar\n",
      "wcrp:cmip6:institution-id:ncc\n",
      "wcrp:cmip6:institution-id:nerc\n",
      "wcrp:cmip6:institution-id:nims-kma\n",
      "wcrp:cmip6:institution-id:noaa-gfdl\n",
      "wcrp:cmip6:institution-id:noaa-ncep\n",
      "wcrp:cmip6:institution-id:nuist\n",
      "wcrp:cmip6:institution-id:pcmdi\n",
      "wcrp:cmip6:institution-id:thu\n",
      "wcrp:cmip6:realm\n",
      "wcrp:cmip6:institution-id:awi\n",
      "wcrp:cmip6:institution-id:bnu\n",
      "wcrp:cmip6:institution-id:cams\n",
      "wcrp:cmip6:institution-id:cccma\n",
      "wcrp:cmip6:institution-id:cccr-iitm\n",
      "wcrp:cmip6:institution-id:cmcc\n",
      "wcrp:cmip6:institution-id:cnrm-cerfacs\n",
      "wcrp:cmip6:institution-id:cola-cfs\n",
      "wcrp:cmip6:institution-id:csir-csiro\n",
      "wcrp:cmip6:institution-id:csiro-bom\n",
      "wcrp:cmip6:institution-id:ec-earth-consortium\n",
      "wcrp:cmip6:institution-id:fio-ronm\n",
      "wcrp:cmip6:institution-id:inm\n",
      "wcrp:cmip6:institution-id:inpe\n",
      "wcrp:cmip6:institution-id:ipsl\n",
      "wcrp:cmip6:institution-id:lasg-iap\n",
      "wcrp:cmip6:institution-id:messy-consortium\n",
      "wcrp:cmip6:institution-id:miroc\n",
      "wcrp:cmip6:institution-id:mohc\n",
      "wcrp:cmip6:institution-id:mpi-m\n",
      "wcrp:cmip6:institution-id:mri\n",
      "wcrp:cmip6:institution-id:nasa-giss\n",
      "wcrp:cmip6:institution-id:ncar\n",
      "wcrp:cmip6:institution-id:ncc\n",
      "wcrp:cmip6:institution-id:nerc\n",
      "wcrp:cmip6:institution-id:nims-kma\n",
      "wcrp:cmip6:institution-id:noaa-gfdl\n",
      "wcrp:cmip6:institution-id:noaa-ncep\n",
      "wcrp:cmip6:institution-id:nuist\n",
      "wcrp:cmip6:institution-id:pcmdi\n",
      "wcrp:cmip6:institution-id:thu\n",
      "wcrp:cmip6:required-global-attributes\n",
      "wcrp:cmip6:institution-id:awi\n",
      "wcrp:cmip6:institution-id:bnu\n",
      "wcrp:cmip6:institution-id:cams\n",
      "wcrp:cmip6:institution-id:cccma\n",
      "wcrp:cmip6:institution-id:cccr-iitm\n",
      "wcrp:cmip6:institution-id:cmcc\n",
      "wcrp:cmip6:institution-id:cnrm-cerfacs\n",
      "wcrp:cmip6:institution-id:cola-cfs\n",
      "wcrp:cmip6:institution-id:csir-csiro\n",
      "wcrp:cmip6:institution-id:csiro-bom\n",
      "wcrp:cmip6:institution-id:ec-earth-consortium\n",
      "wcrp:cmip6:institution-id:fio-ronm\n",
      "wcrp:cmip6:institution-id:inm\n",
      "wcrp:cmip6:institution-id:inpe\n",
      "wcrp:cmip6:institution-id:ipsl\n",
      "wcrp:cmip6:institution-id:lasg-iap\n",
      "wcrp:cmip6:institution-id:messy-consortium\n",
      "wcrp:cmip6:institution-id:miroc\n",
      "wcrp:cmip6:institution-id:mohc\n",
      "wcrp:cmip6:institution-id:mpi-m\n",
      "wcrp:cmip6:institution-id:mri\n",
      "wcrp:cmip6:institution-id:nasa-giss\n",
      "wcrp:cmip6:institution-id:ncar\n",
      "wcrp:cmip6:institution-id:ncc\n",
      "wcrp:cmip6:institution-id:nerc\n",
      "wcrp:cmip6:institution-id:nims-kma\n",
      "wcrp:cmip6:institution-id:noaa-gfdl\n",
      "wcrp:cmip6:institution-id:noaa-ncep\n",
      "wcrp:cmip6:institution-id:nuist\n",
      "wcrp:cmip6:institution-id:pcmdi\n",
      "wcrp:cmip6:institution-id:thu\n",
      "wcrp:cmip6:source-id\n",
      "wcrp:cmip6:institution-id:awi\n",
      "wcrp:cmip6:institution-id:bnu\n",
      "wcrp:cmip6:institution-id:cams\n",
      "wcrp:cmip6:institution-id:cccma\n",
      "wcrp:cmip6:institution-id:cccr-iitm\n",
      "wcrp:cmip6:institution-id:cmcc\n",
      "wcrp:cmip6:institution-id:cnrm-cerfacs\n",
      "wcrp:cmip6:institution-id:cola-cfs\n",
      "wcrp:cmip6:institution-id:csir-csiro\n",
      "wcrp:cmip6:institution-id:csiro-bom\n",
      "wcrp:cmip6:institution-id:ec-earth-consortium\n",
      "wcrp:cmip6:institution-id:fio-ronm\n",
      "wcrp:cmip6:institution-id:inm\n",
      "wcrp:cmip6:institution-id:inpe\n",
      "wcrp:cmip6:institution-id:ipsl\n",
      "wcrp:cmip6:institution-id:lasg-iap\n",
      "wcrp:cmip6:institution-id:messy-consortium\n",
      "wcrp:cmip6:institution-id:miroc\n",
      "wcrp:cmip6:institution-id:mohc\n",
      "wcrp:cmip6:institution-id:mpi-m\n",
      "wcrp:cmip6:institution-id:mri\n",
      "wcrp:cmip6:institution-id:nasa-giss\n",
      "wcrp:cmip6:institution-id:ncar\n",
      "wcrp:cmip6:institution-id:ncc\n",
      "wcrp:cmip6:institution-id:nerc\n",
      "wcrp:cmip6:institution-id:nims-kma\n",
      "wcrp:cmip6:institution-id:noaa-gfdl\n",
      "wcrp:cmip6:institution-id:noaa-ncep\n",
      "wcrp:cmip6:institution-id:nuist\n",
      "wcrp:cmip6:institution-id:pcmdi\n",
      "wcrp:cmip6:institution-id:thu\n",
      "wcrp:cmip6:source-type\n",
      "wcrp:cmip6:institution-id:awi\n",
      "wcrp:cmip6:institution-id:bnu\n",
      "wcrp:cmip6:institution-id:cams\n",
      "wcrp:cmip6:institution-id:cccma\n",
      "wcrp:cmip6:institution-id:cccr-iitm\n",
      "wcrp:cmip6:institution-id:cmcc\n",
      "wcrp:cmip6:institution-id:cnrm-cerfacs\n",
      "wcrp:cmip6:institution-id:cola-cfs\n",
      "wcrp:cmip6:institution-id:csir-csiro\n",
      "wcrp:cmip6:institution-id:csiro-bom\n",
      "wcrp:cmip6:institution-id:ec-earth-consortium\n",
      "wcrp:cmip6:institution-id:fio-ronm\n",
      "wcrp:cmip6:institution-id:inm\n",
      "wcrp:cmip6:institution-id:inpe\n",
      "wcrp:cmip6:institution-id:ipsl\n",
      "wcrp:cmip6:institution-id:lasg-iap\n",
      "wcrp:cmip6:institution-id:messy-consortium\n",
      "wcrp:cmip6:institution-id:miroc\n",
      "wcrp:cmip6:institution-id:mohc\n",
      "wcrp:cmip6:institution-id:mpi-m\n",
      "wcrp:cmip6:institution-id:mri\n",
      "wcrp:cmip6:institution-id:nasa-giss\n",
      "wcrp:cmip6:institution-id:ncar\n",
      "wcrp:cmip6:institution-id:ncc\n",
      "wcrp:cmip6:institution-id:nerc\n",
      "wcrp:cmip6:institution-id:nims-kma\n",
      "wcrp:cmip6:institution-id:noaa-gfdl\n",
      "wcrp:cmip6:institution-id:noaa-ncep\n",
      "wcrp:cmip6:institution-id:nuist\n",
      "wcrp:cmip6:institution-id:pcmdi\n",
      "wcrp:cmip6:institution-id:thu\n",
      "wcrp:cmip6:table-id\n",
      "wcrp:cmip6:institution-id:awi\n",
      "wcrp:cmip6:institution-id:bnu\n",
      "wcrp:cmip6:institution-id:cams\n",
      "wcrp:cmip6:institution-id:cccma\n",
      "wcrp:cmip6:institution-id:cccr-iitm\n",
      "wcrp:cmip6:institution-id:cmcc\n",
      "wcrp:cmip6:institution-id:cnrm-cerfacs\n",
      "wcrp:cmip6:institution-id:cola-cfs\n",
      "wcrp:cmip6:institution-id:csir-csiro\n",
      "wcrp:cmip6:institution-id:csiro-bom\n",
      "wcrp:cmip6:institution-id:ec-earth-consortium\n",
      "wcrp:cmip6:institution-id:fio-ronm\n",
      "wcrp:cmip6:institution-id:inm\n",
      "wcrp:cmip6:institution-id:inpe\n",
      "wcrp:cmip6:institution-id:ipsl\n",
      "wcrp:cmip6:institution-id:lasg-iap\n",
      "wcrp:cmip6:institution-id:messy-consortium\n",
      "wcrp:cmip6:institution-id:miroc\n",
      "wcrp:cmip6:institution-id:mohc\n",
      "wcrp:cmip6:institution-id:mpi-m\n",
      "wcrp:cmip6:institution-id:mri\n",
      "wcrp:cmip6:institution-id:nasa-giss\n",
      "wcrp:cmip6:institution-id:ncar\n",
      "wcrp:cmip6:institution-id:ncc\n",
      "wcrp:cmip6:institution-id:nerc\n",
      "wcrp:cmip6:institution-id:nims-kma\n",
      "wcrp:cmip6:institution-id:noaa-gfdl\n",
      "wcrp:cmip6:institution-id:noaa-ncep\n",
      "wcrp:cmip6:institution-id:nuist\n",
      "wcrp:cmip6:institution-id:pcmdi\n",
      "wcrp:cmip6:institution-id:thu\n",
      "wcrp:global\n",
      "wcrp:cmip6:activity-id\n",
      "wcrp:cmip6:institution-id:awi\n",
      "wcrp:cmip6:institution-id:bnu\n",
      "wcrp:cmip6:institution-id:cams\n",
      "wcrp:cmip6:institution-id:cccma\n",
      "wcrp:cmip6:institution-id:cccr-iitm\n",
      "wcrp:cmip6:institution-id:cmcc\n",
      "wcrp:cmip6:institution-id:cnrm-cerfacs\n",
      "wcrp:cmip6:institution-id:cola-cfs\n",
      "wcrp:cmip6:institution-id:csir-csiro\n",
      "wcrp:cmip6:institution-id:csiro-bom\n",
      "wcrp:cmip6:institution-id:ec-earth-consortium\n",
      "wcrp:cmip6:institution-id:fio-ronm\n",
      "wcrp:cmip6:institution-id:inm\n",
      "wcrp:cmip6:institution-id:inpe\n",
      "wcrp:cmip6:institution-id:ipsl\n",
      "wcrp:cmip6:institution-id:lasg-iap\n",
      "wcrp:cmip6:institution-id:messy-consortium\n",
      "wcrp:cmip6:institution-id:miroc\n",
      "wcrp:cmip6:institution-id:mohc\n",
      "wcrp:cmip6:institution-id:mpi-m\n",
      "wcrp:cmip6:institution-id:mri\n",
      "wcrp:cmip6:institution-id:nasa-giss\n",
      "wcrp:cmip6:institution-id:ncar\n",
      "wcrp:cmip6:institution-id:ncc\n",
      "wcrp:cmip6:institution-id:nerc\n",
      "wcrp:cmip6:institution-id:nims-kma\n",
      "wcrp:cmip6:institution-id:noaa-gfdl\n",
      "wcrp:cmip6:institution-id:noaa-ncep\n",
      "wcrp:cmip6:institution-id:nuist\n",
      "wcrp:cmip6:institution-id:pcmdi\n",
      "wcrp:cmip6:institution-id:thu\n",
      "wcrp:cmip6:experiment-id\n",
      "wcrp:cmip6:institution-id:awi\n",
      "wcrp:cmip6:institution-id:bnu\n",
      "wcrp:cmip6:institution-id:cams\n",
      "wcrp:cmip6:institution-id:cccma\n",
      "wcrp:cmip6:institution-id:cccr-iitm\n",
      "wcrp:cmip6:institution-id:cmcc\n",
      "wcrp:cmip6:institution-id:cnrm-cerfacs\n",
      "wcrp:cmip6:institution-id:cola-cfs\n",
      "wcrp:cmip6:institution-id:csir-csiro\n",
      "wcrp:cmip6:institution-id:csiro-bom\n",
      "wcrp:cmip6:institution-id:ec-earth-consortium\n",
      "wcrp:cmip6:institution-id:fio-ronm\n",
      "wcrp:cmip6:institution-id:inm\n",
      "wcrp:cmip6:institution-id:inpe\n",
      "wcrp:cmip6:institution-id:ipsl\n",
      "wcrp:cmip6:institution-id:lasg-iap\n",
      "wcrp:cmip6:institution-id:messy-consortium\n",
      "wcrp:cmip6:institution-id:miroc\n",
      "wcrp:cmip6:institution-id:mohc\n",
      "wcrp:cmip6:institution-id:mpi-m\n",
      "wcrp:cmip6:institution-id:mri\n",
      "wcrp:cmip6:institution-id:nasa-giss\n",
      "wcrp:cmip6:institution-id:ncar\n",
      "wcrp:cmip6:institution-id:ncc\n",
      "wcrp:cmip6:institution-id:nerc\n",
      "wcrp:cmip6:institution-id:nims-kma\n",
      "wcrp:cmip6:institution-id:noaa-gfdl\n",
      "wcrp:cmip6:institution-id:noaa-ncep\n",
      "wcrp:cmip6:institution-id:nuist\n",
      "wcrp:cmip6:institution-id:pcmdi\n",
      "wcrp:cmip6:institution-id:thu\n",
      "wcrp:cmip6:frequency\n",
      "wcrp:cmip6:institution-id:awi\n",
      "wcrp:cmip6:institution-id:bnu\n",
      "wcrp:cmip6:institution-id:cams\n",
      "wcrp:cmip6:institution-id:cccma\n",
      "wcrp:cmip6:institution-id:cccr-iitm\n",
      "wcrp:cmip6:institution-id:cmcc\n",
      "wcrp:cmip6:institution-id:cnrm-cerfacs\n",
      "wcrp:cmip6:institution-id:cola-cfs\n",
      "wcrp:cmip6:institution-id:csir-csiro\n",
      "wcrp:cmip6:institution-id:csiro-bom\n",
      "wcrp:cmip6:institution-id:ec-earth-consortium\n",
      "wcrp:cmip6:institution-id:fio-ronm\n",
      "wcrp:cmip6:institution-id:inm\n",
      "wcrp:cmip6:institution-id:inpe\n",
      "wcrp:cmip6:institution-id:ipsl\n",
      "wcrp:cmip6:institution-id:lasg-iap\n",
      "wcrp:cmip6:institution-id:messy-consortium\n",
      "wcrp:cmip6:institution-id:miroc\n",
      "wcrp:cmip6:institution-id:mohc\n",
      "wcrp:cmip6:institution-id:mpi-m\n",
      "wcrp:cmip6:institution-id:mri\n",
      "wcrp:cmip6:institution-id:nasa-giss\n",
      "wcrp:cmip6:institution-id:ncar\n",
      "wcrp:cmip6:institution-id:ncc\n",
      "wcrp:cmip6:institution-id:nerc\n",
      "wcrp:cmip6:institution-id:nims-kma\n",
      "wcrp:cmip6:institution-id:noaa-gfdl\n",
      "wcrp:cmip6:institution-id:noaa-ncep\n",
      "wcrp:cmip6:institution-id:nuist\n",
      "wcrp:cmip6:institution-id:pcmdi\n",
      "wcrp:cmip6:institution-id:thu\n",
      "wcrp:cmip6:grid-label\n",
      "wcrp:cmip6:institution-id:awi\n",
      "wcrp:cmip6:institution-id:bnu\n",
      "wcrp:cmip6:institution-id:cams\n",
      "wcrp:cmip6:institution-id:cccma\n",
      "wcrp:cmip6:institution-id:cccr-iitm\n",
      "wcrp:cmip6:institution-id:cmcc\n",
      "wcrp:cmip6:institution-id:cnrm-cerfacs\n",
      "wcrp:cmip6:institution-id:cola-cfs\n",
      "wcrp:cmip6:institution-id:csir-csiro\n",
      "wcrp:cmip6:institution-id:csiro-bom\n",
      "wcrp:cmip6:institution-id:ec-earth-consortium\n",
      "wcrp:cmip6:institution-id:fio-ronm\n",
      "wcrp:cmip6:institution-id:inm\n",
      "wcrp:cmip6:institution-id:inpe\n",
      "wcrp:cmip6:institution-id:ipsl\n",
      "wcrp:cmip6:institution-id:lasg-iap\n",
      "wcrp:cmip6:institution-id:messy-consortium\n",
      "wcrp:cmip6:institution-id:miroc\n",
      "wcrp:cmip6:institution-id:mohc\n",
      "wcrp:cmip6:institution-id:mpi-m\n",
      "wcrp:cmip6:institution-id:mri\n",
      "wcrp:cmip6:institution-id:nasa-giss\n",
      "wcrp:cmip6:institution-id:ncar\n",
      "wcrp:cmip6:institution-id:ncc\n",
      "wcrp:cmip6:institution-id:nerc\n",
      "wcrp:cmip6:institution-id:nims-kma\n",
      "wcrp:cmip6:institution-id:noaa-gfdl\n",
      "wcrp:cmip6:institution-id:noaa-ncep\n",
      "wcrp:cmip6:institution-id:nuist\n",
      "wcrp:cmip6:institution-id:pcmdi\n",
      "wcrp:cmip6:institution-id:thu\n",
      "wcrp:cmip6:institution-id\n",
      "wcrp:cmip6:institution-id:awi\n",
      "wcrp:cmip6:institution-id:bnu\n",
      "wcrp:cmip6:institution-id:cams\n",
      "wcrp:cmip6:institution-id:cccma\n",
      "wcrp:cmip6:institution-id:cccr-iitm\n",
      "wcrp:cmip6:institution-id:cmcc\n",
      "wcrp:cmip6:institution-id:cnrm-cerfacs\n",
      "wcrp:cmip6:institution-id:cola-cfs\n",
      "wcrp:cmip6:institution-id:csir-csiro\n",
      "wcrp:cmip6:institution-id:csiro-bom\n",
      "wcrp:cmip6:institution-id:ec-earth-consortium\n",
      "wcrp:cmip6:institution-id:fio-ronm\n",
      "wcrp:cmip6:institution-id:inm\n",
      "wcrp:cmip6:institution-id:inpe\n",
      "wcrp:cmip6:institution-id:ipsl\n",
      "wcrp:cmip6:institution-id:lasg-iap\n",
      "wcrp:cmip6:institution-id:messy-consortium\n",
      "wcrp:cmip6:institution-id:miroc\n",
      "wcrp:cmip6:institution-id:mohc\n",
      "wcrp:cmip6:institution-id:mpi-m\n",
      "wcrp:cmip6:institution-id:mri\n",
      "wcrp:cmip6:institution-id:nasa-giss\n",
      "wcrp:cmip6:institution-id:ncar\n",
      "wcrp:cmip6:institution-id:ncc\n",
      "wcrp:cmip6:institution-id:nerc\n",
      "wcrp:cmip6:institution-id:nims-kma\n",
      "wcrp:cmip6:institution-id:noaa-gfdl\n",
      "wcrp:cmip6:institution-id:noaa-ncep\n",
      "wcrp:cmip6:institution-id:nuist\n",
      "wcrp:cmip6:institution-id:pcmdi\n",
      "wcrp:cmip6:institution-id:thu\n",
      "wcrp:cmip6:nominal-resolution\n",
      "wcrp:cmip6:institution-id:awi\n",
      "wcrp:cmip6:institution-id:bnu\n",
      "wcrp:cmip6:institution-id:cams\n",
      "wcrp:cmip6:institution-id:cccma\n",
      "wcrp:cmip6:institution-id:cccr-iitm\n",
      "wcrp:cmip6:institution-id:cmcc\n",
      "wcrp:cmip6:institution-id:cnrm-cerfacs\n",
      "wcrp:cmip6:institution-id:cola-cfs\n",
      "wcrp:cmip6:institution-id:csir-csiro\n",
      "wcrp:cmip6:institution-id:csiro-bom\n",
      "wcrp:cmip6:institution-id:ec-earth-consortium\n",
      "wcrp:cmip6:institution-id:fio-ronm\n",
      "wcrp:cmip6:institution-id:inm\n",
      "wcrp:cmip6:institution-id:inpe\n",
      "wcrp:cmip6:institution-id:ipsl\n",
      "wcrp:cmip6:institution-id:lasg-iap\n",
      "wcrp:cmip6:institution-id:messy-consortium\n",
      "wcrp:cmip6:institution-id:miroc\n",
      "wcrp:cmip6:institution-id:mohc\n",
      "wcrp:cmip6:institution-id:mpi-m\n",
      "wcrp:cmip6:institution-id:mri\n",
      "wcrp:cmip6:institution-id:nasa-giss\n",
      "wcrp:cmip6:institution-id:ncar\n",
      "wcrp:cmip6:institution-id:ncc\n",
      "wcrp:cmip6:institution-id:nerc\n",
      "wcrp:cmip6:institution-id:nims-kma\n",
      "wcrp:cmip6:institution-id:noaa-gfdl\n",
      "wcrp:cmip6:institution-id:noaa-ncep\n",
      "wcrp:cmip6:institution-id:nuist\n",
      "wcrp:cmip6:institution-id:pcmdi\n",
      "wcrp:cmip6:institution-id:thu\n",
      "wcrp:cmip6:realm\n",
      "wcrp:cmip6:institution-id:awi\n",
      "wcrp:cmip6:institution-id:bnu\n",
      "wcrp:cmip6:institution-id:cams\n",
      "wcrp:cmip6:institution-id:cccma\n",
      "wcrp:cmip6:institution-id:cccr-iitm\n",
      "wcrp:cmip6:institution-id:cmcc\n",
      "wcrp:cmip6:institution-id:cnrm-cerfacs\n",
      "wcrp:cmip6:institution-id:cola-cfs\n",
      "wcrp:cmip6:institution-id:csir-csiro\n",
      "wcrp:cmip6:institution-id:csiro-bom\n",
      "wcrp:cmip6:institution-id:ec-earth-consortium\n",
      "wcrp:cmip6:institution-id:fio-ronm\n",
      "wcrp:cmip6:institution-id:inm\n",
      "wcrp:cmip6:institution-id:inpe\n",
      "wcrp:cmip6:institution-id:ipsl\n",
      "wcrp:cmip6:institution-id:lasg-iap\n",
      "wcrp:cmip6:institution-id:messy-consortium\n",
      "wcrp:cmip6:institution-id:miroc\n",
      "wcrp:cmip6:institution-id:mohc\n",
      "wcrp:cmip6:institution-id:mpi-m\n",
      "wcrp:cmip6:institution-id:mri\n",
      "wcrp:cmip6:institution-id:nasa-giss\n",
      "wcrp:cmip6:institution-id:ncar\n",
      "wcrp:cmip6:institution-id:ncc\n",
      "wcrp:cmip6:institution-id:nerc\n",
      "wcrp:cmip6:institution-id:nims-kma\n",
      "wcrp:cmip6:institution-id:noaa-gfdl\n",
      "wcrp:cmip6:institution-id:noaa-ncep\n",
      "wcrp:cmip6:institution-id:nuist\n",
      "wcrp:cmip6:institution-id:pcmdi\n",
      "wcrp:cmip6:institution-id:thu\n",
      "wcrp:cmip6:required-global-attributes\n",
      "wcrp:cmip6:institution-id:awi\n",
      "wcrp:cmip6:institution-id:bnu\n",
      "wcrp:cmip6:institution-id:cams\n",
      "wcrp:cmip6:institution-id:cccma\n",
      "wcrp:cmip6:institution-id:cccr-iitm\n",
      "wcrp:cmip6:institution-id:cmcc\n",
      "wcrp:cmip6:institution-id:cnrm-cerfacs\n",
      "wcrp:cmip6:institution-id:cola-cfs\n",
      "wcrp:cmip6:institution-id:csir-csiro\n",
      "wcrp:cmip6:institution-id:csiro-bom\n",
      "wcrp:cmip6:institution-id:ec-earth-consortium\n",
      "wcrp:cmip6:institution-id:fio-ronm\n",
      "wcrp:cmip6:institution-id:inm\n",
      "wcrp:cmip6:institution-id:inpe\n",
      "wcrp:cmip6:institution-id:ipsl\n",
      "wcrp:cmip6:institution-id:lasg-iap\n",
      "wcrp:cmip6:institution-id:messy-consortium\n",
      "wcrp:cmip6:institution-id:miroc\n",
      "wcrp:cmip6:institution-id:mohc\n",
      "wcrp:cmip6:institution-id:mpi-m\n",
      "wcrp:cmip6:institution-id:mri\n",
      "wcrp:cmip6:institution-id:nasa-giss\n",
      "wcrp:cmip6:institution-id:ncar\n",
      "wcrp:cmip6:institution-id:ncc\n",
      "wcrp:cmip6:institution-id:nerc\n",
      "wcrp:cmip6:institution-id:nims-kma\n",
      "wcrp:cmip6:institution-id:noaa-gfdl\n",
      "wcrp:cmip6:institution-id:noaa-ncep\n",
      "wcrp:cmip6:institution-id:nuist\n",
      "wcrp:cmip6:institution-id:pcmdi\n",
      "wcrp:cmip6:institution-id:thu\n",
      "wcrp:cmip6:source-id\n",
      "wcrp:cmip6:institution-id:awi\n",
      "wcrp:cmip6:institution-id:bnu\n",
      "wcrp:cmip6:institution-id:cams\n",
      "wcrp:cmip6:institution-id:cccma\n",
      "wcrp:cmip6:institution-id:cccr-iitm\n",
      "wcrp:cmip6:institution-id:cmcc\n",
      "wcrp:cmip6:institution-id:cnrm-cerfacs\n",
      "wcrp:cmip6:institution-id:cola-cfs\n",
      "wcrp:cmip6:institution-id:csir-csiro\n",
      "wcrp:cmip6:institution-id:csiro-bom\n",
      "wcrp:cmip6:institution-id:ec-earth-consortium\n",
      "wcrp:cmip6:institution-id:fio-ronm\n",
      "wcrp:cmip6:institution-id:inm\n",
      "wcrp:cmip6:institution-id:inpe\n",
      "wcrp:cmip6:institution-id:ipsl\n",
      "wcrp:cmip6:institution-id:lasg-iap\n",
      "wcrp:cmip6:institution-id:messy-consortium\n",
      "wcrp:cmip6:institution-id:miroc\n",
      "wcrp:cmip6:institution-id:mohc\n",
      "wcrp:cmip6:institution-id:mpi-m\n",
      "wcrp:cmip6:institution-id:mri\n",
      "wcrp:cmip6:institution-id:nasa-giss\n",
      "wcrp:cmip6:institution-id:ncar\n",
      "wcrp:cmip6:institution-id:ncc\n",
      "wcrp:cmip6:institution-id:nerc\n",
      "wcrp:cmip6:institution-id:nims-kma\n",
      "wcrp:cmip6:institution-id:noaa-gfdl\n",
      "wcrp:cmip6:institution-id:noaa-ncep\n",
      "wcrp:cmip6:institution-id:nuist\n",
      "wcrp:cmip6:institution-id:pcmdi\n",
      "wcrp:cmip6:institution-id:thu\n",
      "wcrp:cmip6:source-type\n",
      "wcrp:cmip6:institution-id:awi\n",
      "wcrp:cmip6:institution-id:bnu\n",
      "wcrp:cmip6:institution-id:cams\n",
      "wcrp:cmip6:institution-id:cccma\n",
      "wcrp:cmip6:institution-id:cccr-iitm\n",
      "wcrp:cmip6:institution-id:cmcc\n",
      "wcrp:cmip6:institution-id:cnrm-cerfacs\n",
      "wcrp:cmip6:institution-id:cola-cfs\n",
      "wcrp:cmip6:institution-id:csir-csiro\n",
      "wcrp:cmip6:institution-id:csiro-bom\n",
      "wcrp:cmip6:institution-id:ec-earth-consortium\n",
      "wcrp:cmip6:institution-id:fio-ronm\n",
      "wcrp:cmip6:institution-id:inm\n",
      "wcrp:cmip6:institution-id:inpe\n",
      "wcrp:cmip6:institution-id:ipsl\n",
      "wcrp:cmip6:institution-id:lasg-iap\n",
      "wcrp:cmip6:institution-id:messy-consortium\n",
      "wcrp:cmip6:institution-id:miroc\n",
      "wcrp:cmip6:institution-id:mohc\n",
      "wcrp:cmip6:institution-id:mpi-m\n",
      "wcrp:cmip6:institution-id:mri\n",
      "wcrp:cmip6:institution-id:nasa-giss\n",
      "wcrp:cmip6:institution-id:ncar\n",
      "wcrp:cmip6:institution-id:ncc\n",
      "wcrp:cmip6:institution-id:nerc\n",
      "wcrp:cmip6:institution-id:nims-kma\n",
      "wcrp:cmip6:institution-id:noaa-gfdl\n",
      "wcrp:cmip6:institution-id:noaa-ncep\n",
      "wcrp:cmip6:institution-id:nuist\n",
      "wcrp:cmip6:institution-id:pcmdi\n",
      "wcrp:cmip6:institution-id:thu\n",
      "wcrp:cmip6:table-id\n",
      "wcrp:cmip6:institution-id:awi\n",
      "wcrp:cmip6:institution-id:bnu\n",
      "wcrp:cmip6:institution-id:cams\n",
      "wcrp:cmip6:institution-id:cccma\n",
      "wcrp:cmip6:institution-id:cccr-iitm\n",
      "wcrp:cmip6:institution-id:cmcc\n",
      "wcrp:cmip6:institution-id:cnrm-cerfacs\n",
      "wcrp:cmip6:institution-id:cola-cfs\n",
      "wcrp:cmip6:institution-id:csir-csiro\n",
      "wcrp:cmip6:institution-id:csiro-bom\n",
      "wcrp:cmip6:institution-id:ec-earth-consortium\n",
      "wcrp:cmip6:institution-id:fio-ronm\n",
      "wcrp:cmip6:institution-id:inm\n",
      "wcrp:cmip6:institution-id:inpe\n",
      "wcrp:cmip6:institution-id:ipsl\n",
      "wcrp:cmip6:institution-id:lasg-iap\n",
      "wcrp:cmip6:institution-id:messy-consortium\n",
      "wcrp:cmip6:institution-id:miroc\n",
      "wcrp:cmip6:institution-id:mohc\n",
      "wcrp:cmip6:institution-id:mpi-m\n",
      "wcrp:cmip6:institution-id:mri\n",
      "wcrp:cmip6:institution-id:nasa-giss\n",
      "wcrp:cmip6:institution-id:ncar\n",
      "wcrp:cmip6:institution-id:ncc\n",
      "wcrp:cmip6:institution-id:nerc\n",
      "wcrp:cmip6:institution-id:nims-kma\n",
      "wcrp:cmip6:institution-id:noaa-gfdl\n",
      "wcrp:cmip6:institution-id:noaa-ncep\n",
      "wcrp:cmip6:institution-id:nuist\n",
      "wcrp:cmip6:institution-id:pcmdi\n",
      "wcrp:cmip6:institution-id:thu\n"
     ]
    }
   ],
   "source": [
    "# Iterables are sorted: scopes\n",
    "for scope in wcrp:\n",
    "    print(scope)\n",
    "    for collection in cmip6:\n",
    "        print(collection)\n",
    "        for term in institutions:\n",
    "            print(term)"
   ]
  },
  {
   "cell_type": "markdown",
   "metadata": {},
   "source": [
    "#### Iterable access via key"
   ]
  },
  {
   "cell_type": "code",
   "execution_count": 12,
   "metadata": {
    "collapsed": false
   },
   "outputs": [],
   "source": [
    "# Set pointer to a scope within an authority.\n",
    "assert wcrp['cmip6'] == cmip6"
   ]
  },
  {
   "cell_type": "code",
   "execution_count": 13,
   "metadata": {
    "collapsed": false
   },
   "outputs": [],
   "source": [
    "# Set pointer to a collection within a scope.\n",
    "assert cmip6['institution-id'] == institutions"
   ]
  },
  {
   "cell_type": "code",
   "execution_count": 14,
   "metadata": {
    "collapsed": true
   },
   "outputs": [],
   "source": [
    "# Set pointer to a term within a collection.\n",
    "assert institutions['noaa-gfdl'] == gfdl"
   ]
  },
  {
   "cell_type": "markdown",
   "metadata": {},
   "source": [
    "## Properties"
   ]
  },
  {
   "cell_type": "markdown",
   "metadata": {},
   "source": [
    "#### All domain objects have the following standard properties: description, label, name, namespace, raw_name, uid, url"
   ]
  },
  {
   "cell_type": "markdown",
   "metadata": {},
   "source": [
    "### Authority properties"
   ]
  },
  {
   "cell_type": "code",
   "execution_count": 15,
   "metadata": {
    "collapsed": false
   },
   "outputs": [
    {
     "name": "stdout",
     "output_type": "stream",
     "text": [
      "wcrp\n"
     ]
    }
   ],
   "source": [
    "# Canonical name (always lower cased).\n",
    "print(wcrp.canonical_name)"
   ]
  },
  {
   "cell_type": "code",
   "execution_count": 16,
   "metadata": {
    "collapsed": false
   },
   "outputs": [
    {
     "name": "stdout",
     "output_type": "stream",
     "text": [
      "WCRP\n"
     ]
    }
   ],
   "source": [
    "# Raw name.\n",
    "print(wcrp.raw_name)"
   ]
  },
  {
   "cell_type": "code",
   "execution_count": 17,
   "metadata": {
    "collapsed": false
   },
   "outputs": [
    {
     "name": "stdout",
     "output_type": "stream",
     "text": [
      "WCRP\n"
     ]
    }
   ],
   "source": [
    "# Label for UI purposes.\n",
    "print(wcrp.label)"
   ]
  },
  {
   "cell_type": "code",
   "execution_count": 18,
   "metadata": {
    "collapsed": false
   },
   "outputs": [
    {
     "name": "stdout",
     "output_type": "stream",
     "text": [
      "World Climate Research Program\n"
     ]
    }
   ],
   "source": [
    "# Description.\n",
    "print(wcrp.description)"
   ]
  },
  {
   "cell_type": "code",
   "execution_count": 19,
   "metadata": {
    "collapsed": false
   },
   "outputs": [
    {
     "name": "stdout",
     "output_type": "stream",
     "text": [
      "https://www.wcrp-climate.org/wgcm-overview\n"
     ]
    }
   ],
   "source": [
    "# Homepage / URL.\n",
    "print(wcrp.url)"
   ]
  },
  {
   "cell_type": "code",
   "execution_count": 20,
   "metadata": {
    "collapsed": false
   },
   "outputs": [
    {
     "name": "stdout",
     "output_type": "stream",
     "text": [
      "wcrp\n"
     ]
    }
   ],
   "source": [
    "# Namespace.\n",
    "print(wcrp.namespace)"
   ]
  },
  {
   "cell_type": "code",
   "execution_count": 21,
   "metadata": {
    "collapsed": false
   },
   "outputs": [
    {
     "name": "stdout",
     "output_type": "stream",
     "text": [
      "331bfd05-63e4-4ae4-9f7f-113933e434b8\n"
     ]
    }
   ],
   "source": [
    "# Universally unique identifier (assigned at point of creation).\n",
    "print(wcrp.uid)"
   ]
  },
  {
   "cell_type": "markdown",
   "metadata": {},
   "source": [
    "### Scope properties"
   ]
  },
  {
   "cell_type": "code",
   "execution_count": 22,
   "metadata": {
    "collapsed": false
   },
   "outputs": [
    {
     "name": "stdout",
     "output_type": "stream",
     "text": [
      "cmip6\n"
     ]
    }
   ],
   "source": [
    "# Canonical name (always lower cased).\n",
    "print(cmip6.canonical_name)"
   ]
  },
  {
   "cell_type": "code",
   "execution_count": 23,
   "metadata": {
    "collapsed": false
   },
   "outputs": [
    {
     "name": "stdout",
     "output_type": "stream",
     "text": [
      "CMIP6\n"
     ]
    }
   ],
   "source": [
    "# Raw name.\n",
    "print(cmip6.raw_name)"
   ]
  },
  {
   "cell_type": "code",
   "execution_count": 24,
   "metadata": {
    "collapsed": false
   },
   "outputs": [
    {
     "name": "stdout",
     "output_type": "stream",
     "text": [
      "CMIP6\n"
     ]
    }
   ],
   "source": [
    "# Label for UI purposes.\n",
    "print(cmip6.label)"
   ]
  },
  {
   "cell_type": "code",
   "execution_count": 25,
   "metadata": {
    "collapsed": false
   },
   "outputs": [
    {
     "name": "stdout",
     "output_type": "stream",
     "text": [
      "Controlled Vocabularies (CVs) for use in CMIP6\n"
     ]
    }
   ],
   "source": [
    "# Description.\n",
    "print(cmip6.description)"
   ]
  },
  {
   "cell_type": "code",
   "execution_count": 26,
   "metadata": {
    "collapsed": false
   },
   "outputs": [
    {
     "name": "stdout",
     "output_type": "stream",
     "text": [
      "https://github.com/WCRP-CMIP/CMIP6_CVs\n"
     ]
    }
   ],
   "source": [
    "# Homepage / URL.\n",
    "print(cmip6.url)"
   ]
  },
  {
   "cell_type": "code",
   "execution_count": 27,
   "metadata": {
    "collapsed": false
   },
   "outputs": [
    {
     "name": "stdout",
     "output_type": "stream",
     "text": [
      "wcrp:cmip6\n"
     ]
    }
   ],
   "source": [
    "# Namespace.\n",
    "print(cmip6.namespace)"
   ]
  },
  {
   "cell_type": "code",
   "execution_count": 28,
   "metadata": {
    "collapsed": false
   },
   "outputs": [
    {
     "name": "stdout",
     "output_type": "stream",
     "text": [
      "ba2ccd0c-921e-45d4-a13a-6bbc5bdc7340\n"
     ]
    }
   ],
   "source": [
    "# Universally unique identifier (assigned at point of creation).\n",
    "print(cmip6.uid)"
   ]
  },
  {
   "cell_type": "markdown",
   "metadata": {},
   "source": [
    "### Collection properties"
   ]
  },
  {
   "cell_type": "code",
   "execution_count": 29,
   "metadata": {
    "collapsed": false
   },
   "outputs": [
    {
     "name": "stdout",
     "output_type": "stream",
     "text": [
      "institution-id\n"
     ]
    }
   ],
   "source": [
    "# Canonical name (always lower cased).\n",
    "print(institutions.canonical_name)"
   ]
  },
  {
   "cell_type": "code",
   "execution_count": 30,
   "metadata": {
    "collapsed": false
   },
   "outputs": [
    {
     "name": "stdout",
     "output_type": "stream",
     "text": [
      "WCRP CMIP6 CV collection:\n"
     ]
    }
   ],
   "source": [
    "# Description.\n",
    "print(institutions.description)"
   ]
  },
  {
   "cell_type": "code",
   "execution_count": 31,
   "metadata": {
    "collapsed": false
   },
   "outputs": [
    {
     "name": "stdout",
     "output_type": "stream",
     "text": [
      "institution_id\n"
     ]
    }
   ],
   "source": [
    "# Label for UI purposes.\n",
    "print(institutions.label)"
   ]
  },
  {
   "cell_type": "code",
   "execution_count": 32,
   "metadata": {
    "collapsed": false
   },
   "outputs": [
    {
     "name": "stdout",
     "output_type": "stream",
     "text": [
      "wcrp:cmip6:institution-id\n"
     ]
    }
   ],
   "source": [
    "# Namespace.\n",
    "print(institutions.namespace)"
   ]
  },
  {
   "cell_type": "code",
   "execution_count": 33,
   "metadata": {
    "collapsed": false
   },
   "outputs": [
    {
     "name": "stdout",
     "output_type": "stream",
     "text": [
      "institution_id\n"
     ]
    }
   ],
   "source": [
    "# Raw name.\n",
    "print(institutions.raw_name)"
   ]
  },
  {
   "cell_type": "code",
   "execution_count": 34,
   "metadata": {
    "collapsed": false
   },
   "outputs": [
    {
     "name": "stdout",
     "output_type": "stream",
     "text": [
      "d48ddea5-9a09-463a-be8d-6bf3379e3d19\n"
     ]
    }
   ],
   "source": [
    "# Universally unique identifier (assigned at point of creation).\n",
    "print(institutions.uid)"
   ]
  },
  {
   "cell_type": "code",
   "execution_count": 35,
   "metadata": {
    "collapsed": false
   },
   "outputs": [
    {
     "name": "stdout",
     "output_type": "stream",
     "text": [
      "None\n"
     ]
    }
   ],
   "source": [
    "# URL.\n",
    "print(institutions.url)"
   ]
  },
  {
   "cell_type": "markdown",
   "metadata": {},
   "source": [
    "### Term properties"
   ]
  },
  {
   "cell_type": "code",
   "execution_count": 36,
   "metadata": {
    "collapsed": false
   },
   "outputs": [
    {
     "name": "stdout",
     "output_type": "stream",
     "text": [
      "noaa-gfdl\n"
     ]
    }
   ],
   "source": [
    "# Canonical name (always lower cased).\n",
    "print(gfdl.canonical_name)"
   ]
  },
  {
   "cell_type": "code",
   "execution_count": 37,
   "metadata": {
    "collapsed": false
   },
   "outputs": [
    {
     "name": "stdout",
     "output_type": "stream",
     "text": [
      "NOAA-GFDL\n"
     ]
    }
   ],
   "source": [
    "# Raw name.\n",
    "print(gfdl.raw_name)"
   ]
  },
  {
   "cell_type": "code",
   "execution_count": 38,
   "metadata": {
    "collapsed": false
   },
   "outputs": [
    {
     "name": "stdout",
     "output_type": "stream",
     "text": [
      "NOAA-GFDL\n"
     ]
    }
   ],
   "source": [
    "# Label for UI purposes.\n",
    "print(gfdl.label)"
   ]
  },
  {
   "cell_type": "code",
   "execution_count": 39,
   "metadata": {
    "collapsed": false
   },
   "outputs": [
    {
     "name": "stdout",
     "output_type": "stream",
     "text": [
      "None\n"
     ]
    }
   ],
   "source": [
    "# Description (optional).\n",
    "print(gfdl.description)"
   ]
  },
  {
   "cell_type": "code",
   "execution_count": 40,
   "metadata": {
    "collapsed": false
   },
   "outputs": [
    {
     "name": "stdout",
     "output_type": "stream",
     "text": [
      "None\n"
     ]
    }
   ],
   "source": [
    "# Homepage / URL (optional).\n",
    "print(gfdl.url)"
   ]
  },
  {
   "cell_type": "code",
   "execution_count": 41,
   "metadata": {
    "collapsed": false
   },
   "outputs": [
    {
     "name": "stdout",
     "output_type": "stream",
     "text": [
      "2017-03-21 00:00:00+00:00\n"
     ]
    }
   ],
   "source": [
    "# Creation date\n",
    "print(gfdl.create_date)"
   ]
  },
  {
   "cell_type": "code",
   "execution_count": 42,
   "metadata": {
    "collapsed": false
   },
   "outputs": [
    {
     "name": "stdout",
     "output_type": "stream",
     "text": [
      "wcrp:cmip6:institution-id:noaa-gfdl\n"
     ]
    }
   ],
   "source": [
    "# Namespace (authority:scope:collection:term).\n",
    "print(gfdl.namespace)"
   ]
  },
  {
   "cell_type": "code",
   "execution_count": 43,
   "metadata": {
    "collapsed": false
   },
   "outputs": [
    {
     "name": "stdout",
     "output_type": "stream",
     "text": [
      "c3a30ea1-312f-437d-b6ac-1cfe9f0b1689\n"
     ]
    }
   ],
   "source": [
    "# Universally unique identifier (assigned at point of creation).\n",
    "print(gfdl.uid)"
   ]
  },
  {
   "cell_type": "code",
   "execution_count": 44,
   "metadata": {
    "collapsed": false
   },
   "outputs": [
    {
     "name": "stdout",
     "output_type": "stream",
     "text": [
      "pending\n"
     ]
    }
   ],
   "source": [
    "# Governance status.\n",
    "print(gfdl.status)"
   ]
  },
  {
   "cell_type": "code",
   "execution_count": 45,
   "metadata": {
    "collapsed": false
   },
   "outputs": [
    {
     "name": "stdout",
     "output_type": "stream",
     "text": [
      "25\n"
     ]
    }
   ],
   "source": [
    "# Collection relative identifier.\n",
    "print(gfdl.idx)"
   ]
  },
  {
   "cell_type": "markdown",
   "metadata": {},
   "source": [
    "## Encoding"
   ]
  },
  {
   "cell_type": "code",
   "execution_count": 46,
   "metadata": {
    "collapsed": false
   },
   "outputs": [],
   "source": [
    "# Encode authority as a python dictionary.\n",
    "assert isinstance(pyessv.encode(wcrp, 'dict'), dict)\n",
    "\n",
    "# Encode scope as a python dictionary.\n",
    "assert isinstance(pyessv.encode(cmip6, 'dict'), dict)\n",
    "\n",
    "# Encode collection as a python dictionary.\n",
    "assert isinstance(pyessv.encode(institutions, 'dict'), dict)\n",
    "\n",
    "# Encode term as a python dictionary.\n",
    "assert isinstance(pyessv.encode(gfdl, 'dict'), dict)"
   ]
  },
  {
   "cell_type": "code",
   "execution_count": 47,
   "metadata": {
    "collapsed": false
   },
   "outputs": [],
   "source": [
    "# Encode authority as a JSON text blob.\n",
    "assert isinstance(pyessv.encode(wcrp, 'json'), basestring)\n",
    "\n",
    "# Encode scope as a JSON text blob.\n",
    "assert isinstance(pyessv.encode(cmip6), basestring)\n",
    "\n",
    "# Encode collection as a JSON text blob.\n",
    "assert isinstance(pyessv.encode(institutions), basestring)\n",
    "\n",
    "# Encode term as a JSON text blob.\n",
    "assert isinstance(pyessv.encode(gfdl), basestring)"
   ]
  },
  {
   "cell_type": "markdown",
   "metadata": {},
   "source": [
    "## Parsing"
   ]
  },
  {
   "cell_type": "markdown",
   "metadata": {},
   "source": [
    "#### Parsing canonical name"
   ]
  },
  {
   "cell_type": "code",
   "execution_count": 48,
   "metadata": {
    "collapsed": false
   },
   "outputs": [],
   "source": [
    "# Parse authority.\n",
    "assert pyessv.parse('wcrp') == 'wcrp'\n",
    "\n",
    "# Parse scope.\n",
    "assert pyessv.parse('wcrp', 'cmip6') == 'cmip6'\n",
    "\n",
    "# Parse collection.\n",
    "assert pyessv.parse('wcrp', 'cmip6', 'institution-id') == 'institution-id'\n",
    "\n",
    "# Parse term.\n",
    "assert pyessv.parse('wcrp', 'cmip6', 'institution-id', 'ipsl') == 'ipsl'"
   ]
  },
  {
   "cell_type": "markdown",
   "metadata": {},
   "source": [
    "#### Parsing name originally used at point of creation (returns canonical name)"
   ]
  },
  {
   "cell_type": "code",
   "execution_count": 49,
   "metadata": {
    "collapsed": false
   },
   "outputs": [],
   "source": [
    "# Parse authority.\n",
    "assert pyessv.parse('WCRP') == 'wcrp'\n",
    "\n",
    "# Parse scope.\n",
    "assert pyessv.parse('WCRP', 'CMIP6') == 'cmip6'\n",
    "\n",
    "# Parse collection.\n",
    "assert pyessv.parse('WCRP', 'CMIP6', 'required_global_attributes') == 'required-global-attributes'\n",
    "\n",
    "# Parse term.\n",
    "assert pyessv.parse('WCRP', 'CMIP6', 'required_global_attributes', 'Conventions') == 'conventions'"
   ]
  },
  {
   "cell_type": "markdown",
   "metadata": {},
   "source": [
    "#### Parsing error is raised upon an unsuccessful parse"
   ]
  },
  {
   "cell_type": "code",
   "execution_count": 50,
   "metadata": {
    "collapsed": false
   },
   "outputs": [],
   "source": [
    "# Parse invalid authority.\n",
    "try:\n",
    "    pyessv.parse('xxx')\n",
    "except pyessv.ParsingError:\n",
    "    pass"
   ]
  },
  {
   "cell_type": "code",
   "execution_count": 51,
   "metadata": {
    "collapsed": true
   },
   "outputs": [],
   "source": [
    "# Parse invalid scope.\n",
    "try:\n",
    "    pyessv.parse('wcrp', 'xxx')\n",
    "except pyessv.ParsingError:\n",
    "    pass"
   ]
  },
  {
   "cell_type": "code",
   "execution_count": 52,
   "metadata": {
    "collapsed": false
   },
   "outputs": [],
   "source": [
    "# Parse invalid collection.\n",
    "try:\n",
    "    pyessv.parse('wcrp', 'cmip6', 'xxx')\n",
    "except pyessv.ParsingError:\n",
    "    pass"
   ]
  },
  {
   "cell_type": "code",
   "execution_count": 53,
   "metadata": {
    "collapsed": true
   },
   "outputs": [],
   "source": [
    "# Parse invalid term.\n",
    "try:\n",
    "    pyessv.parse('wcrp', 'cmip6', 'institution-id', 'xxx')\n",
    "except pyessv.ParsingError:\n",
    "    pass"
   ]
  },
  {
   "cell_type": "markdown",
   "metadata": {},
   "source": [
    "#### Set strict = false in order to parse mixed-case, underscores & synonyms"
   ]
  },
  {
   "cell_type": "code",
   "execution_count": 54,
   "metadata": {
    "collapsed": false
   },
   "outputs": [],
   "source": [
    "assert pyessv.parse('wCRp', strictness=3) == 'wcrp'"
   ]
  },
  {
   "cell_type": "code",
   "execution_count": 55,
   "metadata": {
    "collapsed": false
   },
   "outputs": [],
   "source": [
    "assert pyessv.parse('wCRp', 'cMIp6', strictness=3) == 'cmip6'"
   ]
  },
  {
   "cell_type": "code",
   "execution_count": 56,
   "metadata": {
    "collapsed": true
   },
   "outputs": [],
   "source": [
    "assert pyessv.parse('wCRp', 'cMIp6', 'inSTitutION-id', strictness=3) == 'institution-id'"
   ]
  },
  {
   "cell_type": "code",
   "execution_count": 57,
   "metadata": {
    "collapsed": true
   },
   "outputs": [],
   "source": [
    "assert pyessv.parse('wCRp', 'cMIp6', 'inSTitutION-id', 'IPsl', strictness=3) == 'ipsl'"
   ]
  },
  {
   "cell_type": "markdown",
   "metadata": {},
   "source": [
    "## Regular Expression Collections"
   ]
  },
  {
   "cell_type": "code",
   "execution_count": 58,
   "metadata": {
    "collapsed": false
   },
   "outputs": [],
   "source": [
    "# Create a collection specifying a regular expression to be applied against terms.\n",
    "re_collection = pyessv.create_collection(\n",
    "    cmip6,\n",
    "    \"test-regex-collection\", \n",
    "    description=\"Ensemble member\",\n",
    "    term_name_regex=r'^[a-z\\-]*$'\n",
    ")"
   ]
  },
  {
   "cell_type": "code",
   "execution_count": 59,
   "metadata": {
    "collapsed": false
   },
   "outputs": [],
   "source": [
    "# Create a valid term.\n",
    "term = pyessv.create_term(re_collection, \"abc-def\", description=\"valid-regex-term\")\n",
    "assert pyessv.is_valid(term) == True"
   ]
  },
  {
   "cell_type": "code",
   "execution_count": 60,
   "metadata": {
    "collapsed": false
   },
   "outputs": [],
   "source": [
    "# Create an invalid term - raises ValidationError.\n",
    "try:\n",
    "    pyessv.create_term(re_collection, \"ABC-DEF\", \"invalid-regex-term\")\n",
    "except pyessv.ValidationError:\n",
    "    pass"
   ]
  },
  {
   "cell_type": "markdown",
   "metadata": {},
   "source": [
    "## Template parsing"
   ]
  },
  {
   "cell_type": "code",
   "execution_count": 61,
   "metadata": {
    "collapsed": false
   },
   "outputs": [],
   "source": [
    "# Template.\n",
    "template = 'ciclad/cmip6/{}/{}/{}/{}/afilename.nc1'\n",
    "\n",
    "# Template collections.\n",
    "collections = (\n",
    "    pyessv.load('wcrp:cmip6:institution-id'),\n",
    "    pyessv.load('wcrp:cmip6:activity-id'),\n",
    "    pyessv.load('wcrp:cmip6:source-id'),\n",
    "    pyessv.load('wcrp:cmip6:experiment-id')\n",
    "    )\n",
    "\n",
    "# Parser.\n",
    "parser = pyessv.create_template_parser(template, collections)"
   ]
  },
  {
   "cell_type": "code",
   "execution_count": 62,
   "metadata": {
    "collapsed": false
   },
   "outputs": [],
   "source": [
    "# Parse a valid.\n",
    "parser.parse('ciclad/cmip6/ipsl/dcpp/hadgem3-gc31-ll/dcppc-atl-spg/afilename.nc1')"
   ]
  },
  {
   "cell_type": "code",
   "execution_count": 63,
   "metadata": {
    "collapsed": false
   },
   "outputs": [],
   "source": [
    "# Parse a valid.\n",
    "parser.parse('ciclad/cmip6/ipsl/dcpp/hadgem3-gc31-ll/dcppc-atl-spg/afilename.nc1')"
   ]
  },
  {
   "cell_type": "code",
   "execution_count": 64,
   "metadata": {
    "collapsed": false
   },
   "outputs": [],
   "source": [
    "# Parsing: invalid - raises TemplateParsingError. \n",
    "try:\n",
    "    parser.parse('ciclad/cmip6/WWW/XXX/YYY/ZZZ/afilename.nc1')\n",
    "except pyessv.TemplateParsingError:\n",
    "    pass"
   ]
  },
  {
   "cell_type": "code",
   "execution_count": 65,
   "metadata": {
    "collapsed": false
   },
   "outputs": [
    {
     "data": {
      "text/plain": [
       "wcrp"
      ]
     },
     "execution_count": 65,
     "metadata": {},
     "output_type": "execute_result"
    }
   ],
   "source": [
    "pyessv.load('331bfd05-63e4-4ae4-9f7f-113933e434b8')"
   ]
  },
  {
   "cell_type": "code",
   "execution_count": null,
   "metadata": {
    "collapsed": true
   },
   "outputs": [],
   "source": []
  }
 ],
 "metadata": {
  "kernelspec": {
   "display_name": "Python 2",
   "language": "python",
   "name": "python2"
  },
  "language_info": {
   "codemirror_mode": {
    "name": "ipython",
    "version": 2
   },
   "file_extension": ".py",
   "mimetype": "text/x-python",
   "name": "python",
   "nbconvert_exporter": "python",
   "pygments_lexer": "ipython2",
   "version": "2.7.13"
  }
 },
 "nbformat": 4,
 "nbformat_minor": 1
}
